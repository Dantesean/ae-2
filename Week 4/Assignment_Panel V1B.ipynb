{
 "cells": [
  {
   "cell_type": "markdown",
   "metadata": {},
   "source": [
    "# Assignment on Panel Data:\n",
    "_Empirical Replication of Adema and Pozzi (2015)_"
   ]
  },
  {
   "cell_type": "markdown",
   "metadata": {},
   "source": [
    "### Dante van der Heijden (11020075), Willem Kullberg (11041544) and Wietse Steenstra (11004487)"
   ]
  },
  {
   "cell_type": "markdown",
   "metadata": {},
   "source": [
    "In this assignment, we replicate and extend some of the empirical results in Adema and Pozzi (2015). \n",
    "The dataset together with the data description is provided on Canvas. \n",
    "In particular, we are interested in replicating the results in Tables 2-3 of that paper. \n",
    "Before proceeding with the tasks described in this section, `read carefully Adema and Pozzi (2015)`. "
   ]
  },
  {
   "cell_type": "code",
   "execution_count": 1,
   "metadata": {},
   "outputs": [],
   "source": [
    "import numpy as np\n",
    "import pandas as pd\n",
    "\n",
    "import matplotlib.pyplot as plt\n",
    "import random\n",
    "import tqdm"
   ]
  },
  {
   "cell_type": "markdown",
   "metadata": {},
   "source": [
    "We import CSV file and create three new RHS variables: two lags - $\\Delta s_{i,t-1}$, $\\Delta y_{i,t-1}$,  and one lead variable $\\Delta y_{i,t+1}$. Notice that your LHS variable of interest is $\\Delta s_{i,t}$."
   ]
  },
  {
   "cell_type": "code",
   "execution_count": 2,
   "metadata": {},
   "outputs": [],
   "source": [
    "sCol = ['ID', 'Time', 'DeltaS', 'DeltaY']\n",
    "df = pd.read_csv('Data.txt', delimiter = \"\\t\",header=None,usecols=[0,1,2,9], names=sCol )\n",
    "df['DeltaS_lag'] = df.groupby(['ID'])['DeltaS'].shift(1)\n",
    "df['DeltaY_lag'] = df.groupby(['ID'])['DeltaY'].shift(1)\n",
    "df['DeltaY_lead'] = df.groupby(['ID'])['DeltaY'].shift(-1)"
   ]
  },
  {
   "cell_type": "markdown",
   "metadata": {},
   "source": [
    "As it is mentioned by the authors, for some countries data in the beginning of the sample is not available. To simplify your analysis, please consider only data from `1971-2012 for 14 countries`, i.e. drop Denmark and Ireland from your sample. Notice that because the empirical model has leads and lags of RHS variables the effective length of your panel variables is only $41+1-2=40$."
   ]
  },
  {
   "cell_type": "code",
   "execution_count": 3,
   "metadata": {},
   "outputs": [
    {
     "data": {
      "text/html": [
       "<div>\n",
       "<style scoped>\n",
       "    .dataframe tbody tr th:only-of-type {\n",
       "        vertical-align: middle;\n",
       "    }\n",
       "\n",
       "    .dataframe tbody tr th {\n",
       "        vertical-align: top;\n",
       "    }\n",
       "\n",
       "    .dataframe thead th {\n",
       "        text-align: right;\n",
       "    }\n",
       "</style>\n",
       "<table border=\"1\" class=\"dataframe\">\n",
       "  <thead>\n",
       "    <tr style=\"text-align: right;\">\n",
       "      <th></th>\n",
       "      <th>ID</th>\n",
       "      <th>Time</th>\n",
       "      <th>DeltaS</th>\n",
       "      <th>DeltaY</th>\n",
       "      <th>DeltaS_lag</th>\n",
       "      <th>DeltaY_lag</th>\n",
       "      <th>DeltaY_lead</th>\n",
       "    </tr>\n",
       "  </thead>\n",
       "  <tbody>\n",
       "    <tr>\n",
       "      <th>3</th>\n",
       "      <td>1</td>\n",
       "      <td>1972</td>\n",
       "      <td>0.010026</td>\n",
       "      <td>0.023169</td>\n",
       "      <td>0.021553</td>\n",
       "      <td>0.038489</td>\n",
       "      <td>0.043908</td>\n",
       "    </tr>\n",
       "    <tr>\n",
       "      <th>4</th>\n",
       "      <td>1</td>\n",
       "      <td>1973</td>\n",
       "      <td>0.020100</td>\n",
       "      <td>0.043908</td>\n",
       "      <td>0.010026</td>\n",
       "      <td>0.023169</td>\n",
       "      <td>0.015815</td>\n",
       "    </tr>\n",
       "    <tr>\n",
       "      <th>5</th>\n",
       "      <td>1</td>\n",
       "      <td>1974</td>\n",
       "      <td>0.004775</td>\n",
       "      <td>0.015815</td>\n",
       "      <td>0.020100</td>\n",
       "      <td>0.043908</td>\n",
       "      <td>0.023548</td>\n",
       "    </tr>\n",
       "    <tr>\n",
       "      <th>6</th>\n",
       "      <td>1</td>\n",
       "      <td>1975</td>\n",
       "      <td>0.002466</td>\n",
       "      <td>0.023548</td>\n",
       "      <td>0.004775</td>\n",
       "      <td>0.015815</td>\n",
       "      <td>0.039224</td>\n",
       "    </tr>\n",
       "    <tr>\n",
       "      <th>7</th>\n",
       "      <td>1</td>\n",
       "      <td>1976</td>\n",
       "      <td>-0.029913</td>\n",
       "      <td>0.039224</td>\n",
       "      <td>0.002466</td>\n",
       "      <td>0.023548</td>\n",
       "      <td>0.014483</td>\n",
       "    </tr>\n",
       "    <tr>\n",
       "      <th>...</th>\n",
       "      <td>...</td>\n",
       "      <td>...</td>\n",
       "      <td>...</td>\n",
       "      <td>...</td>\n",
       "      <td>...</td>\n",
       "      <td>...</td>\n",
       "      <td>...</td>\n",
       "    </tr>\n",
       "    <tr>\n",
       "      <th>698</th>\n",
       "      <td>16</td>\n",
       "      <td>2007</td>\n",
       "      <td>-0.003379</td>\n",
       "      <td>0.017899</td>\n",
       "      <td>0.007767</td>\n",
       "      <td>0.026667</td>\n",
       "      <td>-0.002906</td>\n",
       "    </tr>\n",
       "    <tr>\n",
       "      <th>699</th>\n",
       "      <td>16</td>\n",
       "      <td>2008</td>\n",
       "      <td>0.019948</td>\n",
       "      <td>-0.002906</td>\n",
       "      <td>-0.003379</td>\n",
       "      <td>0.017899</td>\n",
       "      <td>-0.028021</td>\n",
       "    </tr>\n",
       "    <tr>\n",
       "      <th>700</th>\n",
       "      <td>16</td>\n",
       "      <td>2009</td>\n",
       "      <td>0.011181</td>\n",
       "      <td>-0.028021</td>\n",
       "      <td>0.019948</td>\n",
       "      <td>-0.002906</td>\n",
       "      <td>0.025068</td>\n",
       "    </tr>\n",
       "    <tr>\n",
       "      <th>701</th>\n",
       "      <td>16</td>\n",
       "      <td>2010</td>\n",
       "      <td>-0.004909</td>\n",
       "      <td>0.025068</td>\n",
       "      <td>0.011181</td>\n",
       "      <td>-0.028021</td>\n",
       "      <td>0.018473</td>\n",
       "    </tr>\n",
       "    <tr>\n",
       "      <th>702</th>\n",
       "      <td>16</td>\n",
       "      <td>2011</td>\n",
       "      <td>0.000275</td>\n",
       "      <td>0.018473</td>\n",
       "      <td>-0.004909</td>\n",
       "      <td>0.025068</td>\n",
       "      <td>0.027793</td>\n",
       "    </tr>\n",
       "  </tbody>\n",
       "</table>\n",
       "<p>560 rows × 7 columns</p>\n",
       "</div>"
      ],
      "text/plain": [
       "     ID  Time    DeltaS    DeltaY  DeltaS_lag  DeltaY_lag  DeltaY_lead\n",
       "3     1  1972  0.010026  0.023169    0.021553    0.038489     0.043908\n",
       "4     1  1973  0.020100  0.043908    0.010026    0.023169     0.015815\n",
       "5     1  1974  0.004775  0.015815    0.020100    0.043908     0.023548\n",
       "6     1  1975  0.002466  0.023548    0.004775    0.015815     0.039224\n",
       "7     1  1976 -0.029913  0.039224    0.002466    0.023548     0.014483\n",
       "..   ..   ...       ...       ...         ...         ...          ...\n",
       "698  16  2007 -0.003379  0.017899    0.007767    0.026667    -0.002906\n",
       "699  16  2008  0.019948 -0.002906   -0.003379    0.017899    -0.028021\n",
       "700  16  2009  0.011181 -0.028021    0.019948   -0.002906     0.025068\n",
       "701  16  2010 -0.004909  0.025068    0.011181   -0.028021     0.018473\n",
       "702  16  2011  0.000275  0.018473   -0.004909    0.025068     0.027793\n",
       "\n",
       "[560 rows x 7 columns]"
      ]
     },
     "execution_count": 3,
     "metadata": {},
     "output_type": "execute_result"
    }
   ],
   "source": [
    "df = df.drop(df[df.ID==5].index)\n",
    "df = df.drop(df[df.ID==9].index)\n",
    "df = df.drop(df[df.Time <1972].index)\n",
    "df = df.drop(df[df.Time >2011].index)\n",
    "\n",
    "df"
   ]
  },
  {
   "cell_type": "markdown",
   "metadata": {},
   "source": [
    "Can we learn anything from pooled regression of $\\Delta s_{i,t}$ on $\\Delta y_{i,t}$? Not really..."
   ]
  },
  {
   "cell_type": "code",
   "execution_count": 4,
   "metadata": {},
   "outputs": [
    {
     "data": {
      "text/plain": [
       "<AxesSubplot:xlabel='DeltaY'>"
      ]
     },
     "execution_count": 4,
     "metadata": {},
     "output_type": "execute_result"
    },
    {
     "data": {
      "image/png": "[encoded data removed]",
      "text/plain": [
       "<Figure size 432x288 with 1 Axes>"
      ]
     },
     "metadata": {
      "needs_background": "light"
     },
     "output_type": "display_data"
    }
   ],
   "source": [
    "df.plot(x='DeltaY', y='DeltaS', style='o')"
   ]
  },
  {
   "cell_type": "markdown",
   "metadata": {},
   "source": [
    "I find it useful to have all regressors in the format of an array $[K x T x N]$."
   ]
  },
  {
   "cell_type": "code",
   "execution_count": 5,
   "metadata": {},
   "outputs": [],
   "source": [
    "def PrepareData (df, iSizeN, iSizeT, sCol):\n",
    "    \n",
    "    mDataY  = np.transpose(np.asmatrix(df[sCol[0]].values).reshape(iSizeN,iSizeT))\n",
    "    iSizeK = np.int(np.size(sCol)-1)\n",
    "    \n",
    "    aX = np.empty((iSizeK,iSizeT,iSizeN))\n",
    "\n",
    "    for k in range (0,iSizeK):\n",
    "        aX[k,:,:] = np.transpose(np.asmatrix(df[sCol[k+1]].values).reshape(iSizeN,iSizeT))\n",
    "        \n",
    "        \n",
    "    return (mDataY,aX)"
   ]
  },
  {
   "cell_type": "code",
   "execution_count": 6,
   "metadata": {},
   "outputs": [],
   "source": [
    "mDataY, aX = PrepareData (df, 14, 40, ['DeltaS','DeltaS_lag','DeltaY_lag','DeltaY','DeltaY_lead'])"
   ]
  },
  {
   "cell_type": "markdown",
   "metadata": {},
   "source": [
    "You might also find useful to construct the orthogonal projection matrix $\\boldsymbol{M_{F}=I-F(F'F)^{-1}F'}$ for any $[T x L]$ matrix $\\boldsymbol{F}$. For example"
   ]
  },
  {
   "cell_type": "code",
   "execution_count": 7,
   "metadata": {},
   "outputs": [],
   "source": [
    "def FETrans (mF):\n",
    "    \n",
    "    iSizeT = np.shape(mF)[0]\n",
    "\n",
    "    return np.identity(iSizeT) - mF @ np.linalg.inv(mF.T@ mF/iSizeT)@ mF.T/iSizeT"
   ]
  },
  {
   "cell_type": "markdown",
   "metadata": {},
   "source": [
    "Note that this approach is only applicable for balanced panels, where the elimination of unit-specific and time-specific additive effects can be expressed using these matrices. Alternatively, you can use groupby options and remove unit-specific and time-specific effects directly from the dataframe."
   ]
  },
  {
   "cell_type": "markdown",
   "metadata": {},
   "source": [
    "For the pooled estimator it is convenenient to transform $[K x T x N]$ array into a $[K x NT]$ matrix. The function below does this for you efficiently. For example, your pooled estimator can be expressed as $(X'X)^{-1}X'y$ where $X$ is a $[NT x K]$. Notice that this function also pre-multiplies every regressor by $\\boldsymbol{M_{F}=I-F(F'F)^{-1}F'}$ first, before doing any manipulation. Time effects should be removed beforehand."
   ]
  },
  {
   "cell_type": "code",
   "execution_count": 8,
   "metadata": {},
   "outputs": [],
   "source": [
    "def FlatArray(aData, mF):\n",
    "    \n",
    "    iSizeK, iSizeT, iSizeN = np.shape(aData)\n",
    "    iLength = int(iSizeT*iSizeN)\n",
    "    aMultT = np.broadcast_to(mF,(iSizeK,)+mF.shape)\n",
    "    aDataTrans = np.transpose(np.matmul(aMultT,aData),(0,2,1))\n",
    "    \n",
    "    return aDataTrans.reshape(iSizeK,iLength)"
   ]
  },
  {
   "cell_type": "markdown",
   "metadata": {},
   "source": [
    "For Mean group estimators, you need individual specific coefficients $\\hat{\\theta}_{i}$. You can either do it by: a) looping over $[KxTx [i]]$ for all $i$ and then do unit-by-unit OLS; b) avoid loops and operate on arrays directly. The second option is much faster (of order >10 times faster) but is more difficult to program. Option b) is essentially required only if you want to do fancy bootstrap where coefficients need to be re-estimated $B$ times. This is not needed in your exercise"
   ]
  },
  {
   "cell_type": "markdown",
   "metadata": {},
   "source": [
    "Finally, how can we efficiently remove time effects from a balanced panel?"
   ]
  },
  {
   "cell_type": "code",
   "execution_count": 9,
   "metadata": {},
   "outputs": [],
   "source": [
    "# construct [N x N] matrix, where N=14\n",
    "mTransN = FETrans(np.ones((14,1)))\n",
    "# create [K x N x Na array where for every k=1,...,K you have mTransN as an input\n",
    "aTransX = np.broadcast_to(mTransN,(int(np.shape(aX)[0]),)+mTransN.shape)\n",
    "# pre-multiply every regressor from the right (i.e. the N dimension)\n",
    "aX = np.matmul(aX,aTransX)\n",
    "\n",
    "# the final result is a [K x T x N] array\n"
   ]
  },
  {
   "cell_type": "markdown",
   "metadata": {},
   "source": [
    "You might also find this function useful when calculating Heteroscedasticity and autocorrelation robust S.E. (CCM estimator) for the FE estimator (with or without time-effects)"
   ]
  },
  {
   "cell_type": "code",
   "execution_count": 10,
   "metadata": {},
   "outputs": [],
   "source": [
    "def FEScore (mF, mDataY, aX, vBeta):\n",
    "    \n",
    "    iSizeK, iSizeT, iSizeN = np.shape(aX)\n",
    "\n",
    "    vBeta = np.array(vBeta)\n",
    "    mTrans = FETrans(mF)\n",
    "    mE = mDataY - np.sum(np.multiply(aX, vBeta.reshape(iSizeK,1,1)),axis=0)\n",
    "    mE = mTrans@mE\n",
    "    aE = np.broadcast_to(mE,(iSizeK,)+mE.shape)\n",
    "    aW = np.multiply(aX,aE)\n",
    "\n",
    "    return aW"
   ]
  },
  {
   "cell_type": "markdown",
   "metadata": {},
   "source": [
    "This function creates a $[K x T x N]$ array with elements $w_{i,t}^{(k)}=x_{i,t}^{(k)}\\widehat{\\varepsilon}_{i,t}$. You can then use this input to calculate the CCM matrix estimator, using average over one of the dimension."
   ]
  },
  {
   "cell_type": "markdown",
   "metadata": {},
   "source": [
    "### Question 1: \n",
    "Given that sample size is limited to N = 14, can one expect to get reasonable\n",
    "statistical precision based on pooled estimators? Mean-group estimator?"
   ]
  },
  {
   "cell_type": "markdown",
   "metadata": {},
   "source": [
    "### Question 2: \n",
    "Consider empirical specifications in Column 4 of Tables 2 and 3. Provide estimation\n",
    "(no testing for now) results for:"
   ]
  },
  {
   "cell_type": "markdown",
   "metadata": {},
   "source": [
    "### Question 2A\n",
    "Pooled (homogenous estimators): FE (without time-effects). FE (with\n",
    "time-effects) - 2W-FE."
   ]
  },
  {
   "cell_type": "code",
   "execution_count": 11,
   "metadata": {},
   "outputs": [],
   "source": [
    "# Calculate average of variables over time and individual dimension\n",
    "def meaner(col1, col2):\n",
    "    letter = col1.name[0]\n",
    "    return_df = df.groupby(col1.name).mean().drop(col2.name, axis=1)\n",
    "    return_df.columns = ['avg' + letter + '_' + str(col) for col in return_df.columns]\n",
    "    return return_df\n",
    "\n",
    "# Define list of X_vars\n",
    "X_vars = ['DeltaY', 'DeltaS_lag', 'DeltaY_lag', 'DeltaY_lead']"
   ]
  },
  {
   "cell_type": "code",
   "execution_count": 12,
   "metadata": {},
   "outputs": [
    {
     "name": "stdout",
     "output_type": "stream",
     "text": [
      "No time effects:\n",
      "DeltaY: -0.157\n",
      "DeltaS_lag: 0.0555\n",
      "DeltaY_lag: 0.1312\n",
      "DeltaY_lead: -0.0539\n",
      "\n",
      "With time effects:\n",
      "DeltaY: -0.0798\n",
      "DeltaS_lag: 0.0222\n",
      "DeltaY_lag: 0.0211\n",
      "DeltaY_lead: -0.0017\n"
     ]
    }
   ],
   "source": [
    "def TWFE(df):\n",
    "    T_means = meaner(df['Time'],df['ID'])\n",
    "    I_means = meaner(df['ID'], df['Time'])\n",
    "\n",
    "    # Merge time and individual averages back to dataframe\n",
    "    df_full = df.merge(T_means, how = 'left', left_on = 'Time', right_on = 'Time')\n",
    "    df_full = df_full.merge(I_means, how = 'left', left_on = 'ID', right_on = 'ID')\n",
    "    \n",
    "    ### FE with and without time-effects\n",
    "\n",
    "    # Calculate time demeaned X tilde and y tilde from lecture 1 slide 36\n",
    "    y = df_full['DeltaS'] - df_full['avgI_DeltaS']\n",
    "    X = df_full[X_vars] - df_full[I_means.columns].drop('avgI_DeltaS',axis=1).values\n",
    "\n",
    "    # Same X and y, but now also subtract the individual means\n",
    "    y_time = y - df_full['avgT_DeltaS']\n",
    "    X_time = X - df_full[T_means.columns].drop('avgT_DeltaS',axis=1).values\n",
    "\n",
    "    beta_FE = np.linalg.inv(np.matrix(X).T @ np.matrix(X)) @ X.T @ y\n",
    "    beta_FE_time = np.linalg.inv(np.matrix(X_time).T @ np.matrix(X_time)) @ X_time.T @ y_time\n",
    "    \n",
    "    return np.array(beta_FE), np.array(beta_FE_time), y, X\n",
    "\n",
    "beta_FE, beta_FE_time, y, X = TWFE(df)\n",
    "\n",
    "# Print\n",
    "print(\"No time effects:\")\n",
    "for i in range(len(beta_FE)):\n",
    "    print('{}: {}'.format(X.columns[i], round(beta_FE[i],4)))\n",
    "    \n",
    "print(\"\\nWith time effects:\")\n",
    "for i in range(len(beta_FE)):\n",
    "    print('{}: {}'.format(X.columns[i], round(beta_FE_time[i],4)))"
   ]
  },
  {
   "cell_type": "markdown",
   "metadata": {},
   "source": [
    "### Question 2B\n",
    "Estimate the pooled Half Panel Jackknife estimator for FE and 2W-FE."
   ]
  },
  {
   "cell_type": "code",
   "execution_count": 13,
   "metadata": {},
   "outputs": [
    {
     "name": "stdout",
     "output_type": "stream",
     "text": [
      "Pooled Half-Panel JackKnife (Bias-Corrected)\n",
      "\n",
      "No time effects:\n",
      "DeltaS_lag: 0.0661\n",
      "DeltaY_lag: 0.132\n",
      "DeltaY: -0.1451\n",
      "DeltaY_lead: -0.0535\n",
      "\n",
      "With time effects:\n",
      "DeltaS_lag: 0.0221\n",
      "DeltaY_lag: 0.0197\n",
      "DeltaY: -0.077\n",
      "DeltaY_lead: -0.0028\n"
     ]
    }
   ],
   "source": [
    "### Pooled Half Panel Jackknife\n",
    "def jackknife(df):\n",
    "    # Split up panel in two halves\n",
    "    df_part_first_half = df[df['Time'] < 1992]\n",
    "    df_part_second_half = df[df['Time'] >= 1992]\n",
    "\n",
    "    T_means = meaner(df_part_first_half['Time'],df_part_first_half['ID'])\n",
    "    I_means = meaner(df_part_first_half['ID'], df_part_first_half['Time'])\n",
    "\n",
    "    # Merge time and individual averages back to dataframe\n",
    "    df_first_half = df_part_first_half.merge(T_means, how = 'left', left_on = 'Time', right_on = 'Time')\n",
    "    df_first_half = df_first_half.merge(I_means, how = 'left', left_on = 'ID', right_on = 'ID')\n",
    "\n",
    "    T_means = meaner(df_part_second_half['Time'],df_part_second_half['ID'])\n",
    "    I_means = meaner(df_part_second_half['ID'], df_part_second_half['Time'])\n",
    "\n",
    "    # Merge time and individual averages back to dataframe\n",
    "    df_second_half = df_part_second_half.merge(T_means, how = 'left', left_on = 'Time', right_on = 'Time')\n",
    "    df_second_half = df_second_half.merge(I_means, how = 'left', left_on = 'ID', right_on = 'ID')\n",
    "\n",
    "    # Get X and y from half panels\n",
    "    y_first =  df_first_half['DeltaS'] - df_first_half['avgI_DeltaS'] # Without time effects\n",
    "    y_second = df_second_half['DeltaS'] - df_second_half['avgI_DeltaS']\n",
    "    X_first = df_first_half[X_vars] - df_first_half[I_means.columns].drop('avgI_DeltaS',axis=1).values\n",
    "    X_second = df_second_half[X_vars] - df_second_half[I_means.columns].drop('avgI_DeltaS',axis=1).values\n",
    "\n",
    "    y_time_first = y_first - df_first_half['avgT_DeltaS'] # With time effects\n",
    "    y_time_second = y_second - df_second_half['avgT_DeltaS']\n",
    "    X_time_first = X_first - df_first_half[T_means.columns].drop('avgT_DeltaS',axis=1).values\n",
    "    X_time_second = X_second - df_second_half[T_means.columns].drop('avgT_DeltaS',axis=1).values\n",
    "\n",
    "    # Calculate betas for half panels\n",
    "    beta_first = np.linalg.inv(np.matrix(X_first).T @ np.matrix(X_first)) @ X_first.T @ y_first\n",
    "    beta_second = np.linalg.inv(np.matrix(X_second).T @ np.matrix(X_second)) @ X_second.T @ y_second\n",
    "\n",
    "    beta_first_time = np.linalg.inv(np.matrix(X_time_first).T @ np.matrix(X_time_first)) @ X_time_first.T @ y_time_first\n",
    "    beta_second_time = np.linalg.inv(np.matrix(X_time_second).T @ np.matrix(X_time_second)) @ X_time_second.T @ y_time_second\n",
    "\n",
    "    # Calculate half panel jackknifes\n",
    "    beta_HPJack = beta_FE * 2 - 0.5*(beta_first + beta_second)  # Without time effects\n",
    "    beta_HPJack_time = beta_FE_time * 2 - 0.5*(beta_first_time + beta_second_time) # With time effects\n",
    "    \n",
    "    return np.array(beta_HPJack), np.array(beta_HPJack_time)\n",
    "\n",
    "beta_HPJack, beta_HPJack_time = jackknife(df)\n",
    "\n",
    "# Print\n",
    "print(\"Pooled Half-Panel JackKnife (Bias-Corrected)\\n\")\n",
    "print(\"No time effects:\")\n",
    "for i in range(len(beta_FE)):\n",
    "    print('{}: {}'.format(X.columns[[1,2,0,3]][i], round(np.array(beta_HPJack[[1,2,0,3]])[i],4)))\n",
    "    \n",
    "print(\"\\nWith time effects:\")\n",
    "for i in range(len(beta_FE)):\n",
    "    print('{}: {}'.format(X.columns[[1,2,0,3]][i], round(np.array(beta_HPJack_time[[1,2,0,3]])[i],4)))"
   ]
  },
  {
   "cell_type": "markdown",
   "metadata": {},
   "source": [
    "### Question 2C\n",
    "Estimate the mean group estimators: MG and HPJ-MG. (both without time-effects)."
   ]
  },
  {
   "cell_type": "code",
   "execution_count": 14,
   "metadata": {
    "scrolled": false
   },
   "outputs": [
    {
     "name": "stdout",
     "output_type": "stream",
     "text": [
      "Mean group estimator:\n",
      "DeltaS_lag: 0.0221\n",
      "DeltaY_lag: 0.1393\n",
      "DeltaY: -0.17\n",
      "DeltaY_lead: -0.0421\n",
      "\n",
      "Half Panel Jackknife Mean group estimator:\n",
      "DeltaS_lag: 0.0292\n",
      "DeltaY_lag: 0.1419\n",
      "DeltaY: -0.139\n",
      "DeltaY_lead: -0.046\n"
     ]
    }
   ],
   "source": [
    "# Initialize variables\n",
    "beta_total_MG = np.zeros([len(df['ID'].unique()), len(X_vars)])\n",
    "beta_total_HPJ_MG = np.zeros([len(df['ID'].unique()), len(X_vars)])\n",
    "i=0\n",
    "\n",
    "# Loop over all individuals\n",
    "for individual in df['ID'].unique():\n",
    "    \n",
    "    ### MEAN GROUP ESTIMATOR\n",
    "    \n",
    "    # Filter df to only include observations for one individual\n",
    "    df_i = df[df['ID'] == individual]\n",
    "    \n",
    "    # Find time averages to demean\n",
    "    I_means = meaner(df_i['ID'],df_i['Time'])\n",
    "    df_ind = df_i.merge(I_means, how = 'left', left_on = 'ID', right_on = 'ID')\n",
    "    \n",
    "    # Get y and X\n",
    "    y_ind = df_ind['DeltaS'] - df_ind['avgI_DeltaS']\n",
    "    X_ind = df_ind[X_vars] - df_ind[I_means.columns].drop('avgI_DeltaS',axis=1).values\n",
    "    \n",
    "    # Calculate individual betas\n",
    "    beta_ind = np.linalg.inv(np.matrix(X_ind).T @ np.matrix(X_ind)) @ X_ind.T @ y_ind\n",
    "    beta_total_MG[i,:] = beta_ind\n",
    "    \n",
    "    \n",
    "    ### MEAN GROUP HALF PANEL ESTIMATOR\n",
    "    \n",
    "    # Split individual dataset in two halves\n",
    "    df_ind_first = df_i[df_i['Time']<1992]\n",
    "    df_ind_second = df_i[df_i['Time']>=1992]\n",
    "    \n",
    "    # Find time averages to demean\n",
    "    I_means_first = meaner(df_ind_first['ID'],df_ind_first['Time'])\n",
    "    I_means_second = meaner(df_ind_second['ID'],df_ind_second['Time'])\n",
    "    df_ind_first = df_ind_first.merge(I_means_first, how = 'left', left_on = 'ID', right_on = 'ID')\n",
    "    df_ind_second = df_ind_second.merge(I_means_second, how = 'left', left_on = 'ID', right_on = 'ID')\n",
    "    \n",
    "    # Get y and X\n",
    "    y_ind_first = df_ind_first['DeltaS'] - df_ind_first['avgI_DeltaS']\n",
    "    y_ind_second = df_ind_second['DeltaS'] - df_ind_second['avgI_DeltaS']\n",
    "    X_ind_first = df_ind_first[X_vars] - df_ind_first[I_means.columns].drop('avgI_DeltaS',axis=1).values\n",
    "    X_ind_second = df_ind_second[X_vars] - df_ind_second[I_means.columns].drop('avgI_DeltaS',axis=1).values \n",
    "    \n",
    "    beta_first = np.linalg.inv(np.matrix(X_ind_first).T @ np.matrix(X_ind_first)) @ X_ind_first.T @ y_ind_first\n",
    "    beta_second = np.linalg.inv(np.matrix(X_ind_second).T @ np.matrix(X_ind_second)) @ X_ind_second.T @ y_ind_second\n",
    "    beta_total_HPJ_MG[i,:] = 2 * beta_ind - 0.5 * (beta_first + beta_second)\n",
    "    \n",
    "    i = i + 1\n",
    "    \n",
    "beta_MG = np.mean(beta_total_MG,axis=0)\n",
    "beta_HPJ_MG = np.mean(beta_total_HPJ_MG,axis=0)\n",
    "\n",
    "# Print\n",
    "print(\"Mean group estimator:\")\n",
    "for i in range(len(beta_FE)):\n",
    "    print('{}: {}'.format(X.columns[[1,2,0,3]][i], round(np.array(beta_MG[[1,2,0,3]])[i],4)))\n",
    "    \n",
    "print(\"\\nHalf Panel Jackknife Mean group estimator:\")\n",
    "for i in range(len(beta_FE)):\n",
    "    print('{}: {}'.format(X.columns[[1,2,0,3]][i], round(np.array(beta_HPJ_MG[[1,2,0,3]])[i],4)))"
   ]
  },
  {
   "cell_type": "markdown",
   "metadata": {},
   "source": [
    "### Question 2D\n",
    "Do you obtain similar conclusions as the authors, when you use the bias-corrected\n",
    "versions of the estimators as opposed to standard versions of the estimators?\n"
   ]
  },
  {
   "cell_type": "code",
   "execution_count": null,
   "metadata": {},
   "outputs": [],
   "source": []
  },
  {
   "cell_type": "markdown",
   "metadata": {},
   "source": [
    "### Question 3: \n",
    "Consider testing.\n",
    "\n",
    "• (L1) For all pooled estimators provide percentile bootstrap confidence intervals\n",
    "with B = 400."
   ]
  },
  {
   "cell_type": "code",
   "execution_count": 15,
   "metadata": {
    "scrolled": true
   },
   "outputs": [
    {
     "name": "stderr",
     "output_type": "stream",
     "text": [
      "100%|██████████| 399/399 [00:20<00:00, 19.65it/s]\n"
     ]
    }
   ],
   "source": [
    "B = 399\n",
    "n,p = X.shape\n",
    "\n",
    "# initilize bootstrap arrays\n",
    "betaB_FE = np.zeros((B,4))\n",
    "betaB_FE_time = np.zeros((B,4))\n",
    "betaB_HPJack = np.zeros((B,4))\n",
    "betaB_HPJack_time = np.zeros((B,4))\n",
    "\n",
    "np.random.seed(1)\n",
    "# balanced bootstap\n",
    "index_B = np.random.permutation(np.repeat(np.arange(n),B)).reshape((B,n))\n",
    "for b in tqdm.tqdm(range(B)):\n",
    "    index = index_B[b,:]  # select the indices\n",
    "    dfB = pd.DataFrame.copy(df.iloc[index])\n",
    "    betaB_FE[b,:], betaB_FE_time[b,:], yB, XB = TWFE(dfB)\n",
    "    betaB_HPJack[b,:], betaB_HPJack_time[b,:] = jackknife(dfB)\n",
    "\n",
    "# percentile\n",
    "q_bB_FE = np.quantile(betaB_FE,[0.025,0.975],axis=0)\n",
    "q_bB_FE_time  = np.quantile(betaB_FE_time,[0.025,0.975],axis=0)\n",
    "q_bB_HPJack = np.quantile(betaB_HPJack,[0.025,0.975],axis=0)\n",
    "q_bB_HPJack_time = np.quantile(betaB_HPJack_time,[0.025,0.975],axis=0)"
   ]
  },
  {
   "cell_type": "markdown",
   "metadata": {},
   "source": [
    "• (L1) You can also try normal approximation based CI using the CCM variancecovariance estimator.\n",
    "January 3, 2021"
   ]
  },
  {
   "cell_type": "code",
   "execution_count": 16,
   "metadata": {},
   "outputs": [],
   "source": [
    "# res_FE = y - X @ np.array(beta_FE)\n",
    "# res_FE_time = y_time - X_time @ np.array(beta_FE_time)\n",
    "# omega = np.matrix(X.T @ res_FE).T @ np.matrix(X.T @ res_FE)\n",
    "# omega_time = np.matrix(X.T @ res_FE).T @ np.matrix(X.T @ res_FE)"
   ]
  },
  {
   "cell_type": "markdown",
   "metadata": {},
   "source": [
    "• (L3) For MG estimators use : i) the standard “non-parametric” variance estimator; ii) bootstrap CI with B = 400.\n",
    "NOTE: for bootstrap procedure you do not have to re-estimate βi in each bootstrap replication."
   ]
  },
  {
   "cell_type": "code",
   "execution_count": 17,
   "metadata": {},
   "outputs": [
    {
     "name": "stdout",
     "output_type": "stream",
     "text": [
      "For the full panel CIs: The confidence interval is between\n",
      "[-0.21221702 -0.06809186  0.09949064 -0.08089854]\n",
      "and \n",
      "[-0.12782907  0.11229806  0.17916882 -0.00323713]\n",
      "\n",
      "For the half panel CIs: The confidence interval is between\n",
      "[-0.21255161 -0.06880708  0.09917472 -0.08120646]\n",
      "and \n",
      "[-0.12749448  0.11301329  0.17948474 -0.00292921]\n"
     ]
    }
   ],
   "source": [
    "# Create 'non-parameteric' standard errors\n",
    "res_MG = y_ind - X_ind @ beta_MG\n",
    "s2_MG = (res_MG @ res_MG)/(n-p)\n",
    "SE_MG = np.sqrt(s2_MG*np.diag(np.linalg.inv(X_ind.T @ X_ind)))\n",
    "\n",
    "res_HPJ_MG = y_ind - X_ind @ beta_HPJ_MG\n",
    "s2_HPJ_MG = (res_HPJ_MG @ res_HPJ_MG)/(n-p)\n",
    "SE_HPJ_MG = np.sqrt(s2_HPJ_MG*np.diag(np.linalg.inv(X_ind.T @ X_ind)))\n",
    "\n",
    "CI_np_MG_lb = beta_MG - 1.96 * SE_MG\n",
    "CI_np_MG_ub = beta_MG + 1.96 * SE_MG\n",
    "\n",
    "CI_np_HPJ_MG_lb = beta_MG - 1.96 * SE_HPJ_MG\n",
    "CI_np_HPJ_MG_ub = beta_MG + 1.96 * SE_HPJ_MG\n",
    "\n",
    "print('For the full panel CIs: The confidence interval is between')\n",
    "print(CI_np_MG_lb)\n",
    "print('and ')\n",
    "print(CI_np_MG_ub)\n",
    "\n",
    "print('\\nFor the half panel CIs: The confidence interval is between')\n",
    "print(CI_np_HPJ_MG_lb)\n",
    "print('and ')\n",
    "print(CI_np_HPJ_MG_ub)"
   ]
  },
  {
   "cell_type": "code",
   "execution_count": 18,
   "metadata": {},
   "outputs": [
    {
     "name": "stderr",
     "output_type": "stream",
     "text": [
      "100%|██████████| 300/300 [00:00<00:00, 5374.05it/s]\n"
     ]
    }
   ],
   "source": [
    "# Create Bootstrap estimators\n",
    "B = 300\n",
    "n,p = beta_total_MG.shape\n",
    "beta_MGb = np.zeros((B,p))\n",
    "beta_HPJ_MGb = np.zeros((B,p))\n",
    "\n",
    "np.random.seed(1)\n",
    "##### NEW VERSION #####\n",
    "index_B = np.random.permutation(np.repeat(np.arange(n),B)).reshape((B,n))\n",
    "for b in tqdm.tqdm(range(B), total=B):\n",
    "    index = index_B[b,:]\n",
    "    betaB_MG = np.copy(beta_total_MG[index,:])\n",
    "    betaB_HPJ_MG = np.copy(beta_total_HPJ_MG[index,:])\n",
    "    beta_MGb[b] = np.mean(betaB_MG, axis=0)\n",
    "    beta_HPJ_MGb[b] = np.mean(betaB_HPJ_MG, axis=0)\n",
    "    \n",
    "CI_MG = np.quantile(beta_MGb, [0.025, 0.975], axis=0)\n",
    "CI_HPJ_MG = np.quantile(beta_HPJ_MGb, [0.025, 0.975], axis=0)"
   ]
  },
  {
   "cell_type": "code",
   "execution_count": 19,
   "metadata": {},
   "outputs": [
    {
     "name": "stdout",
     "output_type": "stream",
     "text": [
      "For the full panel CIs: The confidence interval is between\n",
      "[-0.26579026 -0.08097429  0.05404507 -0.10601173]\n",
      "and \n",
      "[-0.10007583  0.13053188  0.22629388  0.03421535]\n",
      "\n",
      "For the half panel CIs: The confidence interval is between\n",
      "[-0.24685843 -0.08820725  0.0494632  -0.12672953]\n",
      "and \n",
      "[-0.05388014  0.13966204  0.23357521  0.04818868]\n"
     ]
    }
   ],
   "source": [
    "print('For the full panel CIs: The confidence interval is between')\n",
    "print(CI_MG[0])\n",
    "print('and ')\n",
    "print(CI_MG[1])\n",
    "\n",
    "print('\\nFor the half panel CIs: The confidence interval is between')\n",
    "print(CI_HPJ_MG[0])\n",
    "print('and ')\n",
    "print(CI_HPJ_MG[1])"
   ]
  },
  {
   "cell_type": "markdown",
   "metadata": {},
   "source": [
    "### Question 4: \n",
    " Do you still find a significant negative effect of ∆ ln Yi,t irrespective of the procedure\n",
    "considered?"
   ]
  },
  {
   "cell_type": "code",
   "execution_count": null,
   "metadata": {},
   "outputs": [],
   "source": []
  },
  {
   "cell_type": "code",
   "execution_count": 20,
   "metadata": {},
   "outputs": [],
   "source": [
    "# TRASH\n",
    "\n",
    "##### OLD BOOTSTRAP Q3.1 #####\n",
    "#     yB = dfB['DeltaS'] - dfB['avgT_DeltaS']\n",
    "#     XB = dfB[X_vars] - dfB[T_means.columns].drop('avgT_DeltaS',axis=1).values\n",
    "#     yB_time = yB - dfB['avgI_DeltaS']\n",
    "#     XB_time = XB - dfB[I_means.columns].drop('avgI_DeltaS',axis=1).values\n",
    "#     bB_FEWith[b,:] = np.linalg.inv(np.matrix(XB).T @ np.matrix(XB)) @ XB.T @ yB\n",
    "#     bB_FEWithout[b,:] = np.linalg.inv(np.matrix(XB_time).T @ np.matrix(XB_time)) @ XB_time.T @ yB_time\n",
    "#     bB_FEWith_SE[b, :] = np.std(bB_FEWith, axis=0)\n",
    "#     bB_FEWithout_SE[b, :] = np.std(bB_FEWithout, axis=0)\n",
    "#     res_bB_FEWith[b] = yB - XB @ bB_FEWith[b,:]\n",
    "#     res_bB_FEWithout[b] = yB - XB @ bB_FEWithout[b,:]\n",
    "\n",
    "\n",
    "####### OLD Q3.3 #########\n",
    "\n",
    "##### OLD VERSION #####\n",
    "# balanced bootstap\n",
    "# index_B = np.random.permutation(np.repeat(np.arange(n),B)).reshape((B,n))\n",
    "# for b in tqdm.tqdm(range(B), total=B):\n",
    "#     index = index_B[b,:]  # select the indices\n",
    "#     dfB = df.iloc[index]\n",
    "#     # Version 1\n",
    "#     I_means = meaner(dfB['ID'],dfB['Time'])\n",
    "#     df_B = dfB.merge(I_means, how = 'left', left_on = 'ID', right_on = 'ID')\n",
    "#     yB = df_B['DeltaS'] - df_B['avgI_DeltaS']\n",
    "#     XB = df_B[X_vars] - df_B[I_means.columns].drop('avgI_DeltaS',axis=1).values\n",
    "#     res_MG = yB - XB @ beta_MG\n",
    "#     s2_MG = (res_MG @ res_MG)/(n-p)\n",
    "#     SEbB_MG[b] = np.sqrt(s2_MG*np.diag(np.linalg.inv(XB.T @ XB)))\n",
    "\n",
    "#     res_HPJ_MG = yB - XB @ beta_HPJ_MG\n",
    "#     s2_HPJ_MG = (res_HPJ_MG @ res_HPJ_MG)/(n-p)\n",
    "#     SEbB_HPJ_MG[b] = np.sqrt(s2_HPJ_MG*np.diag(np.linalg.inv(XB.T @ XB)))\n",
    "    \n",
    "#     # Version 2\n",
    "    \n",
    "# #     for individual in dfB['ID'].unique():\n",
    "    \n",
    "# #         ### MEAN GROUP ESTIMATOR\n",
    "\n",
    "# #         # Filter df to only include observations for one individual\n",
    "# #         df_i = dfB[dfB['ID'] == individual]\n",
    "\n",
    "# #         # Find time averages to demean\n",
    "# #         I_means = meaner(df_i['ID'],df_i['Time'])\n",
    "# #         df_ind = df_i.merge(I_means, how = 'left', left_on = 'ID', right_on = 'ID')\n",
    "\n",
    "# #         # Get y and X\n",
    "# #         y_ind = df_ind['DeltaS'] - df_ind['avgI_DeltaS']\n",
    "# #         X_ind = df_ind[X_vars] - df_ind[I_means.columns].drop('avgI_DeltaS',axis=1).values\n",
    "\n",
    "# #         res_MG = y_ind - X_ind @ beta_MG\n",
    "# #         s2_MG = (res_MG @ res_MG)/(n-p)\n",
    "# #         SEbB_MG[b] = np.sqrt(s2_MG*np.diag(np.linalg.inv(X_ind.T @ X_ind)))\n",
    "\n",
    "# #         res_HPJ_MG = y_ind - X_ind @ beta_HPJ_MG\n",
    "# #         s2_HPJ_MG = (res_HPJ_MG @ res_HPJ_MG)/(n-p)\n",
    "# #         SEbB_HPJ_MG[b] = np.sqrt(s2_HPJ_MG*np.diag(np.linalg.inv(X_ind.T @ X_ind)))"
   ]
  }
 ],
 "metadata": {
  "kernelspec": {
   "display_name": "Python 3",
   "language": "python",
   "name": "python3"
  },
  "language_info": {
   "codemirror_mode": {
    "name": "ipython",
    "version": 3
   },
   "file_extension": ".py",
   "mimetype": "text/x-python",
   "name": "python",
   "nbconvert_exporter": "python",
   "pygments_lexer": "ipython3",
   "version": "3.9.1"
  }
 },
 "nbformat": 4,
 "nbformat_minor": 4
}
