{
 "cells": [
  {
   "cell_type": "markdown",
   "metadata": {},
   "source": [
    "<h1>Assignment on Panel Data:<\\h1><br>\n",
    "    Empirical Replication of Adema and Pozzi (2015)"
   ]
  },
  {
   "cell_type": "markdown",
   "metadata": {},
   "source": [
    "In this assignment, we replicate and extend some of the empirical results in Adema and Pozzi (2015). \n",
    "The dataset together with the data description is provided on Canvas. \n",
    "In particular, we are interested in replicating the results in Tables 2-3 of that paper. \n",
    "Before proceeding with the tasks described in this section, `read carefully Adema and Pozzi (2015)`. "
   ]
  },
  {
   "cell_type": "code",
   "execution_count": 1,
   "metadata": {},
   "outputs": [],
   "source": [
    "import numpy as np\n",
    "import pandas as pd\n",
    "\n",
    "import matplotlib.pyplot as plt\n",
    "import random"
   ]
  },
  {
   "cell_type": "markdown",
   "metadata": {},
   "source": [
    "We import CSV file and create three new RHS variables: two lags - $\\Delta s_{i,t-1}$, $\\Delta y_{i,t-1}$,  and one lead variable $\\Delta y_{i,t+1}$. Notice that your LHS variable of interest is $\\Delta s_{i,t}$."
   ]
  },
  {
   "cell_type": "code",
   "execution_count": 2,
   "metadata": {},
   "outputs": [],
   "source": [
    "sCol = ['ID', 'Time', 'DeltaS', 'DeltaY']\n",
    "df = pd.read_csv('Data.txt', delimiter = \"\\t\",header=None,usecols=[0,1,2,9], names=sCol )\n",
    "df['DeltaS_lag'] = df.groupby(['ID'])['DeltaS'].shift(1)\n",
    "df['DeltaY_lag'] = df.groupby(['ID'])['DeltaY'].shift(1)\n",
    "df['DeltaY_lead'] = df.groupby(['ID'])['DeltaY'].shift(-1)"
   ]
  },
  {
   "cell_type": "markdown",
   "metadata": {},
   "source": [
    "As it is mentioned by the authors, for some countries data in the beginning of the sample is not available. To simplify your analysis, please consider only data from `1971-2012 for 14 countries`, i.e. drop Denmark and Ireland from your sample. Notice that because the empirical model has leads and lags of RHS variables the effective length of your panel variables is only $41+1-2=40$."
   ]
  },
  {
   "cell_type": "code",
   "execution_count": 3,
   "metadata": {},
   "outputs": [
    {
     "data": {
      "text/html": [
       "<div>\n",
       "<style scoped>\n",
       "    .dataframe tbody tr th:only-of-type {\n",
       "        vertical-align: middle;\n",
       "    }\n",
       "\n",
       "    .dataframe tbody tr th {\n",
       "        vertical-align: top;\n",
       "    }\n",
       "\n",
       "    .dataframe thead th {\n",
       "        text-align: right;\n",
       "    }\n",
       "</style>\n",
       "<table border=\"1\" class=\"dataframe\">\n",
       "  <thead>\n",
       "    <tr style=\"text-align: right;\">\n",
       "      <th></th>\n",
       "      <th>ID</th>\n",
       "      <th>Time</th>\n",
       "      <th>DeltaS</th>\n",
       "      <th>DeltaY</th>\n",
       "      <th>DeltaS_lag</th>\n",
       "      <th>DeltaY_lag</th>\n",
       "      <th>DeltaY_lead</th>\n",
       "    </tr>\n",
       "  </thead>\n",
       "  <tbody>\n",
       "    <tr>\n",
       "      <th>3</th>\n",
       "      <td>1</td>\n",
       "      <td>1972</td>\n",
       "      <td>0.010026</td>\n",
       "      <td>0.023169</td>\n",
       "      <td>0.021553</td>\n",
       "      <td>0.038489</td>\n",
       "      <td>0.043908</td>\n",
       "    </tr>\n",
       "    <tr>\n",
       "      <th>4</th>\n",
       "      <td>1</td>\n",
       "      <td>1973</td>\n",
       "      <td>0.020100</td>\n",
       "      <td>0.043908</td>\n",
       "      <td>0.010026</td>\n",
       "      <td>0.023169</td>\n",
       "      <td>0.015815</td>\n",
       "    </tr>\n",
       "    <tr>\n",
       "      <th>5</th>\n",
       "      <td>1</td>\n",
       "      <td>1974</td>\n",
       "      <td>0.004775</td>\n",
       "      <td>0.015815</td>\n",
       "      <td>0.020100</td>\n",
       "      <td>0.043908</td>\n",
       "      <td>0.023548</td>\n",
       "    </tr>\n",
       "    <tr>\n",
       "      <th>6</th>\n",
       "      <td>1</td>\n",
       "      <td>1975</td>\n",
       "      <td>0.002466</td>\n",
       "      <td>0.023548</td>\n",
       "      <td>0.004775</td>\n",
       "      <td>0.015815</td>\n",
       "      <td>0.039224</td>\n",
       "    </tr>\n",
       "    <tr>\n",
       "      <th>7</th>\n",
       "      <td>1</td>\n",
       "      <td>1976</td>\n",
       "      <td>-0.029913</td>\n",
       "      <td>0.039224</td>\n",
       "      <td>0.002466</td>\n",
       "      <td>0.023548</td>\n",
       "      <td>0.014483</td>\n",
       "    </tr>\n",
       "    <tr>\n",
       "      <th>...</th>\n",
       "      <td>...</td>\n",
       "      <td>...</td>\n",
       "      <td>...</td>\n",
       "      <td>...</td>\n",
       "      <td>...</td>\n",
       "      <td>...</td>\n",
       "      <td>...</td>\n",
       "    </tr>\n",
       "    <tr>\n",
       "      <th>698</th>\n",
       "      <td>16</td>\n",
       "      <td>2007</td>\n",
       "      <td>-0.003379</td>\n",
       "      <td>0.017899</td>\n",
       "      <td>0.007767</td>\n",
       "      <td>0.026667</td>\n",
       "      <td>-0.002906</td>\n",
       "    </tr>\n",
       "    <tr>\n",
       "      <th>699</th>\n",
       "      <td>16</td>\n",
       "      <td>2008</td>\n",
       "      <td>0.019948</td>\n",
       "      <td>-0.002906</td>\n",
       "      <td>-0.003379</td>\n",
       "      <td>0.017899</td>\n",
       "      <td>-0.028021</td>\n",
       "    </tr>\n",
       "    <tr>\n",
       "      <th>700</th>\n",
       "      <td>16</td>\n",
       "      <td>2009</td>\n",
       "      <td>0.011181</td>\n",
       "      <td>-0.028021</td>\n",
       "      <td>0.019948</td>\n",
       "      <td>-0.002906</td>\n",
       "      <td>0.025068</td>\n",
       "    </tr>\n",
       "    <tr>\n",
       "      <th>701</th>\n",
       "      <td>16</td>\n",
       "      <td>2010</td>\n",
       "      <td>-0.004909</td>\n",
       "      <td>0.025068</td>\n",
       "      <td>0.011181</td>\n",
       "      <td>-0.028021</td>\n",
       "      <td>0.018473</td>\n",
       "    </tr>\n",
       "    <tr>\n",
       "      <th>702</th>\n",
       "      <td>16</td>\n",
       "      <td>2011</td>\n",
       "      <td>0.000275</td>\n",
       "      <td>0.018473</td>\n",
       "      <td>-0.004909</td>\n",
       "      <td>0.025068</td>\n",
       "      <td>0.027793</td>\n",
       "    </tr>\n",
       "  </tbody>\n",
       "</table>\n",
       "<p>560 rows × 7 columns</p>\n",
       "</div>"
      ],
      "text/plain": [
       "     ID  Time    DeltaS    DeltaY  DeltaS_lag  DeltaY_lag  DeltaY_lead\n",
       "3     1  1972  0.010026  0.023169    0.021553    0.038489     0.043908\n",
       "4     1  1973  0.020100  0.043908    0.010026    0.023169     0.015815\n",
       "5     1  1974  0.004775  0.015815    0.020100    0.043908     0.023548\n",
       "6     1  1975  0.002466  0.023548    0.004775    0.015815     0.039224\n",
       "7     1  1976 -0.029913  0.039224    0.002466    0.023548     0.014483\n",
       "..   ..   ...       ...       ...         ...         ...          ...\n",
       "698  16  2007 -0.003379  0.017899    0.007767    0.026667    -0.002906\n",
       "699  16  2008  0.019948 -0.002906   -0.003379    0.017899    -0.028021\n",
       "700  16  2009  0.011181 -0.028021    0.019948   -0.002906     0.025068\n",
       "701  16  2010 -0.004909  0.025068    0.011181   -0.028021     0.018473\n",
       "702  16  2011  0.000275  0.018473   -0.004909    0.025068     0.027793\n",
       "\n",
       "[560 rows x 7 columns]"
      ]
     },
     "execution_count": 3,
     "metadata": {},
     "output_type": "execute_result"
    }
   ],
   "source": [
    "df = df.drop(df[df.ID==5].index)\n",
    "df = df.drop(df[df.ID==9].index)\n",
    "df = df.drop(df[df.Time <1972].index)\n",
    "df = df.drop(df[df.Time >2011].index)\n",
    "\n",
    "df"
   ]
  },
  {
   "cell_type": "markdown",
   "metadata": {},
   "source": [
    "Can we learn anything from pooled regression of $\\Delta s_{i,t}$ on $\\Delta y_{i,t}$? Not really..."
   ]
  },
  {
   "cell_type": "code",
   "execution_count": 4,
   "metadata": {},
   "outputs": [
    {
     "data": {
      "text/plain": [
       "<AxesSubplot:xlabel='DeltaY'>"
      ]
     },
     "execution_count": 4,
     "metadata": {},
     "output_type": "execute_result"
    },
    {
     "data": {
      "image/png": "[encoded data removed]",
      "text/plain": [
       "<Figure size 432x288 with 1 Axes>"
      ]
     },
     "metadata": {
      "needs_background": "light"
     },
     "output_type": "display_data"
    }
   ],
   "source": [
    "df.plot(x='DeltaY', y='DeltaS', style='o')"
   ]
  },
  {
   "cell_type": "markdown",
   "metadata": {},
   "source": [
    "I find it useful to have all regressors in the format of an array $[K x T x N]$."
   ]
  },
  {
   "cell_type": "code",
   "execution_count": 5,
   "metadata": {},
   "outputs": [],
   "source": [
    "def PrepareData (df, iSizeN, iSizeT, sCol):\n",
    "    \n",
    "    mDataY  = np.transpose(np.asmatrix(df[sCol[0]].values).reshape(iSizeN,iSizeT))\n",
    "    iSizeK = np.int(np.size(sCol)-1)\n",
    "    \n",
    "    aX = np.empty((iSizeK,iSizeT,iSizeN))\n",
    "\n",
    "    for k in range (0,iSizeK):\n",
    "        aX[k,:,:] = np.transpose(np.asmatrix(df[sCol[k+1]].values).reshape(iSizeN,iSizeT))\n",
    "        \n",
    "        \n",
    "    return (mDataY,aX)"
   ]
  },
  {
   "cell_type": "markdown",
   "metadata": {},
   "source": [
    "You might also find useful to construct the orthogonal projection matrix $\\boldsymbol{M_{F}=I-F(F'F)^{-1}F'}$ for any $[T x L]$ matrix $\\boldsymbol{F}$. For example"
   ]
  },
  {
   "cell_type": "code",
   "execution_count": 6,
   "metadata": {},
   "outputs": [],
   "source": [
    "def FETrans (mF, m=1):\n",
    "    \n",
    "    iSizeT = np.shape(mF)[0]\n",
    "    W = np.identity(iSizeT) - mF @ np.linalg.inv(mF.T@ mF/iSizeT)@ mF.T/iSizeT\n",
    "    if m > 1:\n",
    "        W = np.broadcast_to(W, (m,) + W.shape)\n",
    "    return W"
   ]
  },
  {
   "cell_type": "markdown",
   "metadata": {},
   "source": [
    "Note that this approach is only applicable for balanced panels, where the elimination of unit-specific and time-specific additive effects can be expressed using these matrices. Alternatively, you can use groupby options and remove unit-specific and time-specific effects directly from the dataframe."
   ]
  },
  {
   "cell_type": "markdown",
   "metadata": {},
   "source": [
    "For the pooled estimator it is convenenient to transform $[K x T x N]$ array into a $[K x NT]$ matrix. The function below does this for you efficiently. For example, your pooled estimator can be expressed as $(X'X)^{-1}X'y$ where $X$ is a $[NT x K]$. Notice that this function also pre-multiplies every regressor by $\\boldsymbol{M_{F}=I-F(F'F)^{-1}F'}$ first, before doing any manipulation. Time effects should be removed beforehand."
   ]
  },
  {
   "cell_type": "code",
   "execution_count": 7,
   "metadata": {},
   "outputs": [],
   "source": [
    "def FlatArray(aData, mF):\n",
    "    \n",
    "    iSizeK, iSizeT, iSizeN = np.shape(aData)\n",
    "    iLength = int(iSizeT*iSizeN)\n",
    "    aMultT = np.broadcast_to(mF,(iSizeK,)+mF.shape)\n",
    "    aDataTrans = np.transpose(np.matmul(aMultT,aData),(0,2,1))\n",
    "    \n",
    "    return aDataTrans.reshape(iSizeK,iLength)"
   ]
  },
  {
   "cell_type": "markdown",
   "metadata": {},
   "source": [
    "For Mean group estimators, you need individual specific coefficients $\\hat{\\theta}_{i}$. You can either do it by: a) looping over $[KxTx [i]]$ for all $i$ and then do unit-by-unit OLS; b) avoid loops and operate on arrays directly. The second option is much faster (of order >10 times faster) but is more difficult to program. Option b) is essentially required only if you want to do fancy bootstrap where coefficients need to be re-estimated $B$ times. This is not needed in your exercise"
   ]
  },
  {
   "cell_type": "markdown",
   "metadata": {},
   "source": [
    "Finally, how can we efficiently remove time effects from a balanced panel?"
   ]
  },
  {
   "cell_type": "code",
   "execution_count": 9,
   "metadata": {},
   "outputs": [],
   "source": [
    "mDataY, aX = PrepareData (df, 14, 40, ['DeltaS','DeltaS_lag','DeltaY_lag','DeltaY','DeltaY_lead'])\n",
    "# construct [N x N] matrix, where N=14\n",
    "mTransN = FETrans(np.ones((14,1)))\n",
    "# create [K x N x Na array where for every k=1,...,K you have mTransN as an input\n",
    "aTransX = np.broadcast_to(mTransN,(int(np.shape(aX)[0]),)+mTransN.shape)\n",
    "# pre-multiply every regressor from the right (i.e. the N dimension)\n",
    "aX = np.matmul(aX,aTransX)\n",
    "\n",
    "# the final result is a [K x T x N] array\n"
   ]
  },
  {
   "cell_type": "code",
   "execution_count": null,
   "metadata": {},
   "outputs": [],
   "source": []
  },
  {
   "cell_type": "markdown",
   "metadata": {},
   "source": [
    "You might also find this function useful when calculating Heteroscedasticity and autocorrelation robust S.E. (CCM estimator) for the FE estimator (with or without time-effects)"
   ]
  },
  {
   "cell_type": "code",
   "execution_count": 10,
   "metadata": {},
   "outputs": [],
   "source": [
    "def FEScore (mF, mDataY, aX, vBeta):\n",
    "    \n",
    "    iSizeK, iSizeT, iSizeN = np.shape(aX)\n",
    "\n",
    "    vBeta = np.array(vBeta)\n",
    "    mTrans = FETrans(mF)\n",
    "    mE = mDataY - np.sum(np.multiply(aX, vBeta.reshape(iSizeK,1,1)),axis=0)\n",
    "    mE = mTrans@mE\n",
    "    aE = np.broadcast_to(mE,(iSizeK,)+mE.shape)\n",
    "    aW = np.multiply(aX,aE)\n",
    "\n",
    "    return aW"
   ]
  },
  {
   "cell_type": "markdown",
   "metadata": {},
   "source": [
    "This function creates a $[K x T x N]$ array with elements $w_{i,t}^{(k)}=x_{i,t}^{(k)}\\widehat{\\varepsilon}_{i,t}$. You can then use this input to calculate the CCM matrix estimator, using average over one of the dimension."
   ]
  },
  {
   "cell_type": "code",
   "execution_count": 11,
   "metadata": {},
   "outputs": [],
   "source": [
    "def OLS(y,X):\n",
    "    N,p = X.shape                   # number of observations and regressors\n",
    "    XXi = np.linalg.inv(X.T @ X)\n",
    "    b_ols = XXi @ (X.T @ y)\n",
    "    res = y-X @ b_ols\n",
    "    s2 = (res @ res)/(N-p)\n",
    "    SE = np.sqrt(s2*np.diag(XXi))\n",
    "    return b_ols,SE,res\n",
    "\n",
    "\n"
   ]
  },
  {
   "cell_type": "code",
   "execution_count": 14,
   "metadata": {},
   "outputs": [],
   "source": [
    "N = len(np.unique(df.ID))\n",
    "T = len(np.unique(df.Time))\n",
    "sCol = ['DeltaS', 'DeltaS_lag', 'DeltaY_lag','DeltaY','DeltaY_lead']\n",
    "K = len(sCol)-1\n",
    "\n",
    "Y, X = PrepareData(df, iSizeN=N, iSizeT=T, sCol=sCol)\n",
    "\n",
    "# Y and X fixed for time effect\n",
    "Y_dot = Y @ FETrans(np.ones([N,1]), 1)\n",
    "X_dot = X @ FETrans(np.ones([N,1]), K)\n",
    "\n",
    "# return fixed effect estimator\n",
    "def FE(X, Y):\n",
    "    K, T, N = X.shape\n",
    "    W_T = FETrans(np.ones([T,1]), N)\n",
    "    XWX = (X.transpose((2,0,1)) @ W_T @ X.transpose((2,1,0))).sum(axis=0)\n",
    "    XWY = (X.transpose((2,0,1)) @ W_T @ np.expand_dims(Y.T, axis=2)).sum(axis=0)\n",
    "    return (np.linalg.inv(XWX) @ XWY  )[:,0]\n",
    "\n",
    "def FE1(X, Y):\n",
    "    W_T = FETrans(np.ones([T,1]), 1)\n",
    "\n",
    "    def FlatArray(aData, mF):\n",
    "\n",
    "        iSizeK, iSizeT, iSizeN = np.shape(aData)\n",
    "        iLength = int(iSizeT*iSizeN)\n",
    "        aMultT = np.broadcast_to(mF,(iSizeK,)+mF.shape)\n",
    "        aDataTrans = np.transpose(np.matmul(aMultT,aData),(0,2,1))\n",
    "\n",
    "        return aDataTrans.reshape(iSizeK,iLength)\n",
    "    \n",
    "    Xf = FlatArray(X, W_T)\n",
    "    return np.linalg.inv(Xf.T @ Xf) @ Xf.T @ Y\n",
    "\n",
    "def HPJ(X, Y, M):\n",
    "    beta = FE(X, Y)\n",
    "    X1, X2 = np.hsplit(X, 2)\n",
    "    Y1, Y2 = np.vsplit(Y, 2)\n",
    "    beta1, beta2 = (FE(x, y) for x, y in [(X1, Y1), (X2, Y2)])\n",
    "\n",
    "    return 2*beta - 0.5*(beta1 + beta2)\n",
    "\n",
    "def MG(X, Y, method, **kwargs):\n",
    "    beta = np.zeros(K)\n",
    "    for i in range(X.shape[2]):\n",
    "        beta += method(np.expand_dims(X[:,:,i], axis=2), Y, **kwargs)\n",
    "    \n",
    "    return beta / X.shape[2] "
   ]
  },
  {
   "cell_type": "code",
   "execution_count": 18,
   "metadata": {},
   "outputs": [
    {
     "data": {
      "text/plain": [
       "(4, 14, 14)"
      ]
     },
     "execution_count": 18,
     "metadata": {},
     "output_type": "execute_result"
    }
   ],
   "source": [
    "FETrans(np.ones([N,1]), K).shape"
   ]
  },
  {
   "cell_type": "code",
   "execution_count": null,
   "metadata": {},
   "outputs": [],
   "source": [
    "def bootstrap()\n",
    "    for b in range(B):\n",
    "        index_B = np.random.permutation(np.repeat(np.arange(n),BOOTREP)).reshape((BOOTREP,n))\n",
    "        XB = XB[:,:,b]\n",
    "        YB = YB[:,b]\n",
    "        "
   ]
  },
  {
   "cell_type": "code",
   "execution_count": null,
   "metadata": {},
   "outputs": [],
   "source": [
    "beta_FE = FE(X, Y)\n",
    "beta_2WFE = FE(X_dot, Y_dot)\n",
    "\n",
    "beta_FE_HPJ = HPJ(X, Y, M=4)\n",
    "beta_2WFE_HPJ = HPJ(X_dot, Y_dot, M=4)\n",
    "\n",
    "beta_MG = MG(X, Y, FE)\n",
    "beta_HPJ_MG = MG(X, Y, HPJ, M=4)"
   ]
  },
  {
   "cell_type": "code",
   "execution_count": null,
   "metadata": {},
   "outputs": [],
   "source": [
    "pd.DataFrame(data=np.array([beta_FE,beta_2WFE,beta_FE_HPJ,beta_2WFE_HPJ,beta_MG,beta_HPJ_MG]).T,\n",
    "                          columns=['FE','2WFE','FE-HPJ','2WFE-HPJ','MG','HPJ-MG'], index=sCol[1:])"
   ]
  },
  {
   "cell_type": "code",
   "execution_count": null,
   "metadata": {},
   "outputs": [],
   "source": [
    "Y.shape"
   ]
  },
  {
   "cell_type": "code",
   "execution_count": null,
   "metadata": {},
   "outputs": [],
   "source": []
  },
  {
   "cell_type": "code",
   "execution_count": null,
   "metadata": {},
   "outputs": [],
   "source": []
  },
  {
   "cell_type": "code",
   "execution_count": null,
   "metadata": {},
   "outputs": [],
   "source": []
  },
  {
   "cell_type": "code",
   "execution_count": null,
   "metadata": {},
   "outputs": [],
   "source": []
  },
  {
   "cell_type": "code",
   "execution_count": null,
   "metadata": {},
   "outputs": [],
   "source": []
  },
  {
   "cell_type": "code",
   "execution_count": null,
   "metadata": {},
   "outputs": [],
   "source": [
    "res = (np.expand_dims(Y, axis=2) - (X.transpose((1,2,0)) @ beta))[:,:,0]\n",
    "\n",
    "b = np.zeros([1, K])\n",
    "for t in range(T-1):\n",
    "    for s in range(t+1, T):\n",
    "        b += ((np.abs(s-t)/M) < 1) * res[t,:].T @ X[:,s,:].T / N\n",
    "\n",
    "W = (X.transpose((2,0,1)) @ W_T @ X.transpose((2,1,0))).sum(axis=0) / (N*T)"
   ]
  },
  {
   "cell_type": "code",
   "execution_count": null,
   "metadata": {},
   "outputs": [],
   "source": [
    "W_T = FETrans(np.ones([T,1]), 1)\n",
    "\n",
    "def FlatArray(aData, mF):\n",
    "\n",
    "    iSizeK, iSizeT, iSizeN = np.shape(aData)\n",
    "    iLength = int(iSizeT*iSizeN)\n",
    "    aMultT = np.broadcast_to(mF,(iSizeK,)+mF.shape)\n",
    "    aDataTrans = np.transpose(np.matmul(aMultT,aData),(0,2,1))\n",
    "\n",
    "    return aDataTrans.reshape(iSizeK,iLength)\n",
    "\n",
    "Xf = FlatArray(X, W_T)\n",
    "Yf = FlatArray(np.expand_dims(Y, axis=0), W_T)\n",
    "(np.linalg.inv(Xf @ Xf.T) @ Xf) @ Yf.T\n"
   ]
  }
 ],
 "metadata": {
  "kernelspec": {
   "display_name": "Python 3",
   "language": "python",
   "name": "python3"
  },
  "language_info": {
   "codemirror_mode": {
    "name": "ipython",
    "version": 3
   },
   "file_extension": ".py",
   "mimetype": "text/x-python",
   "name": "python",
   "nbconvert_exporter": "python",
   "pygments_lexer": "ipython3",
   "version": "3.9.1"
  }
 },
 "nbformat": 4,
 "nbformat_minor": 4
}
