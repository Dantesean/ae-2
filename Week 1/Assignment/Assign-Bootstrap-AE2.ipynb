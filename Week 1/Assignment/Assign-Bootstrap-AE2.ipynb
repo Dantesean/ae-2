{
 "cells": [
  {
   "cell_type": "markdown",
   "metadata": {},
   "source": [
    "## Programming Assignment - Bootstrap Methods - Adv. Econometrics 2\n",
    "\n",
    "**Deadline**:  Friday 17:00 hours, 8 January 2021\n",
    "\n",
    "|Nr|**Name**|**Student ID**|**Email**|\n",
    "|--|--------|--------------|---------|\n",
    "|1.|        |              |         |\n",
    "|2.|        |              |         |\n",
    "|3.|        |              |         |\n",
    "\n",
    "**Declaration of Originality**\n",
    "\n",
    "We whose names are given under 1., 2. and 3. above declare that:\n",
    "\n",
    "1. These solutions are solely our own work.\n",
    "2. We have not made (part of) these solutions available to any other student.\n",
    "3. We shall not engage in any other activities that will dishonestly improve my results or dishonestly improve or hurt the results of others.\n",
    "\n",
    "## Instructions for completing and submitting the assignment\n",
    "1. Submit your work in the form of (i) a Jupyter Notebook and (ii) PDF-file via Canvas assuming basic econometric knowledge, before the deadline. Your notebook should not give errors when executed with `Run All`.\n",
    "2. Complete the table with the info of your group members. By submitting the Jupyter Notebook, you agree with the included declaration of originality. Do not copy work of others. This will be considered as fraud!\n",
    "3. Clarify your code with comments."
   ]
  },
  {
   "cell_type": "markdown",
   "metadata": {},
   "source": [
    "## Hints\n",
    "- Only use the paired bootstrap\n",
    "- Work with Numpy vectors or matrices as much as possible, e.g. `np.quantile(tB_OLS,[0.05,0.95],axis=0)` returns two quantiles for the whole vector of OLS estimates\n",
    "- When coding, you can reduce the running time by setting `BOOTREP=99` and reduce the number of simulations. For the final execution, please return to original values!\n",
    "- For a progress bar, please install `conda install -c conda-forge tqdm` or if you don't use anaconda use can just execute `pip install tqdm`\n",
    "- If you want to use plotly, please install `conda install -c plotly plotly`\n",
    "- Below, you can find Python code for generating the data and doing a simulation using multicores. To use multicores, you have to install `multiprocess`: `conda install -c conda-forge multiprocess`. Otherwise, execute `pip install multiprocess`\n",
    "- The idea behind multiprocess is that each CPU core receives a sample, executes the resampling and returns the results. These results will be stored in one big list, which can be analyzed after the simulation."
   ]
  },
  {
   "cell_type": "markdown",
   "metadata": {},
   "source": [
    "## Assignment \n",
    "\n",
    "The purpose of this assignment is for you to gain practical experience with resampling methods. You will investigate several bootstrap confidence intervals for OLS and LASSO estimators. The DGP is given by:\n",
    "\n",
    "- $X_i \\sim N(0,\\Sigma)$, $\\Sigma=(\\sigma_{ij}) \\in \\mathbb{R}^{p\\times p}$ with $\\sigma_{ij}=\\rho^{|i-j|}$, $\\beta_j=0$ for $1\\leq j\\leq p-15$, $\\beta_j=0.5$ for $p-14\\leq j\\leq p-10$, $\\beta_j=1.5$ for $p-9\\leq j \\leq p-5$ $\\beta_j=2.5$ for $p-4 \\leq j \\leq p$. \n",
    "\n",
    "- $\\varepsilon_1,...,\\varepsilon_n \\sim N(0,1)$\n",
    "\n",
    "- $y=X \\beta+\\varepsilon$\n",
    "\n",
    "Let $\\hat{\\beta}=(X'X)^{-1}X'y$ denote the OLS estimator, while $\\breve{\\beta}$ denote the LASSO estimator based on minimizing\n",
    "$$ \\sum_{i=1}^{n} (y_i- b'X_i)^2+\\alpha \\sum_{j=1}^{p}|b_j|.$$\n",
    "Only consider `lasso = linear_model.Lasso(alpha=0.02)`, so keep the amount of regularization fixed!\n",
    "\n",
    "Please, briefly answer all questions below using graphs and if necessary tables."
   ]
  },
  {
   "cell_type": "markdown",
   "metadata": {},
   "source": [
    "1. Choose $n=50$, $p=25$ and $\\rho=0.6$. Determine the bias and RMSE of the OLS and LASSO estimators using 1,000 Monte Carlo replications."
   ]
  },
  {
   "cell_type": "markdown",
   "metadata": {},
   "source": [
    "2. Estimate by simulation the coverage probabilities (cov. prob.) of the 90% first-order asymptotic two-sided confidence intervals for the OLS estimator, i.e. the fraction of confidence intervals (CI)\n",
    "$$[\\hat{\\beta_j}-1.645 SE(\\hat{\\beta_j}),\\hat{\\beta_j}+1.645 SE(\\hat{\\beta_j})]$$\n",
    "that contains the true parameter $\\beta_j$. Here $SE(\\hat{\\beta_j})$ is the usual (non-robust) standard error based on $s^2(X'X)^{-1}$."
   ]
  },
  {
   "cell_type": "markdown",
   "metadata": {},
   "source": [
    "3. Estimate by simulation the cov. prob. of the 90% first-order asymptotic two-sided CI for OLS and LASSO using $$SE_{boot}(\\tilde{\\beta}),$$\n",
    "for $\\tilde{\\beta}\\in \\{\\hat{\\beta},\\breve{\\beta}\\}.$$"
   ]
  },
  {
   "cell_type": "markdown",
   "metadata": {},
   "source": [
    "4. Note that the cov. prob. can be interpreted as the number of successes in 1,000 trials. Hence, the estimated cov. prob. is not significantly different (at the 95% confidence level) from 90% if its value is contained in the interval\n",
    "$$0.90\\pm 1.96\\sqrt{(0.90\\times 0.10/1000)}=[0.8814,0.9186].$$\n",
    "Check if the estimated cov. prob. of questions 2 & 3 are significantly different from 90%. What is your conclusion?"
   ]
  },
  {
   "cell_type": "markdown",
   "metadata": {},
   "source": [
    "5. Estimate by simulation the cov. prob. for OLS and LASSO of 90% equal-tailed two-sided percentile bootstrap confidence intervals:\n",
    "$$(\\tilde{\\beta}_{95\\%}^*,\\tilde{\\beta}_{5\\%}^*),$$\n",
    "where $\\mathbb{P}_*[\\tilde{\\beta}^*>\\beta_{5\\%}^*]=5\\%$ and  $\\tilde{\\beta}\\in \\{\\hat{\\beta},\\breve{\\beta}\\}$."
   ]
  },
  {
   "cell_type": "markdown",
   "metadata": {},
   "source": [
    "6.  Estimate by simulation the cov. prob. for OLS of 90% equal-tailed two-sided percentile-$t$ bootstrap confidence intervals based on the quantiles of the root\n",
    "$$(\\hat{\\beta}^*-\\hat{\\beta})/SE(\\hat{\\beta}^*),$$ \n",
    "where $SE(\\hat{\\beta}^*)$ is based on $s^{*2}(X^{*}\\,' X^{*})^{-1}$."
   ]
  },
  {
   "cell_type": "markdown",
   "metadata": {},
   "source": [
    "7. What problems would you encounter if you wanted to implement the percentile-$t$ intervals for the LASSO? How could you remedy these problems (you don't have to implement this)?"
   ]
  },
  {
   "cell_type": "markdown",
   "metadata": {},
   "source": [
    "8.  Estimate by simulation the cov. prob. for LASSO of 90% two-sided bias-corrected and accelerated (BC$_a$) confidence intervals. For this, use the bootstrap to estimate the (median) bias and the Jackknife for the acceleration constant. In the BC$_a$ method, the quantiles are adjusted:\n",
    "$$\\alpha_1=\\Phi\\left ( \\hat{z}_0+\\frac{\\hat{z}_0+z_{\\alpha/2}}{1-\\hat{a}(\\hat{z}_0+z_{\\alpha/2})} \\right ), \\\\\n",
    "  \\alpha_2=\\Phi\\left ( \\hat{z}_0+\\frac{\\hat{z}_0+z_{1-\\alpha}}{1-\\hat{a}(\\hat{z}_0+z_{1-\\alpha/2})} \\right ) \\\\\n",
    "$$\n",
    "with $z_{0.95}=1.645$. Here\n",
    "$$\\hat{z}_0=\\Phi^{-1}\\left ( \\frac{\\sum_{i=1}^n \\mathbb{1} \\{\\hat{\\theta}^*(b)<\\hat{\\theta}\\}}{B} \\right)$$\n",
    "and\n",
    "$$ \\hat{a}=\\frac{\\sum_{i=1}^n (\\hat{\\theta}_{(\\cdot)}-\\hat{\\theta}_{(i)})^3}{6\\{\\sum_{i=1}^n(\\hat{\\theta}_{(\\cdot)}-\\hat{\\theta}_{(i)})^2\\}^{3/2}}$$\n",
    "with $\\hat{\\theta}_{(\\cdot)}=\\sum_{i=1}^n \\hat{\\theta}_{(i)}/n$; see for more details Section 14.3 of Efron, B., & Tibshirani, R. J. (1994). An introduction to the bootstrap: [link](http://www.ru.ac.bd/stat/wp-content/uploads/sites/25/2019/03/501_02_Efron_Introduction-to-the-Bootstrap.pdf))."
   ]
  },
  {
   "cell_type": "markdown",
   "metadata": {},
   "source": [
    "9. Based on all the results of this assignment, which inference procedure would you advise a practitioner that wants to conduct inference in a model described by the DGP? Motivate your recommendation."
   ]
  },
  {
   "cell_type": "markdown",
   "metadata": {},
   "source": [
    "## Generate Samples"
   ]
  },
  {
   "cell_type": "code",
   "execution_count": null,
   "metadata": {},
   "outputs": [],
   "source": [
    "import numpy as np\n",
    "from sklearn import linear_model\n",
    "#import plotly.express as px        # uncomment if you want to use plotly.express\n",
    "from tqdm.notebook import tqdm\n",
    "\n",
    "REP=1000                            # numer of Monte Carlo simulations\n",
    "BOOTREP=999                         # number of bootstrap replications\n",
    "n=50\n",
    "p=25\n",
    "rho=0.6\n",
    "mu=np.zeros(p)\n",
    "Sigma=np.identity(p)\n",
    "for i in range(p):\n",
    "    for j in range(p):\n",
    "        Sigma[i,j]=rho**abs(i-j)\n",
    "beta=np.zeros(p)\n",
    "beta[(p-15):(p-10)]=0.5\n",
    "beta[(p-10):(p-5)]=1.5\n",
    "beta[(p-5):]=2.5\n",
    "arglist=[]\n",
    "for r in tqdm(range(REP)):\n",
    "    X = np.random.multivariate_normal(mean=mu, cov=Sigma, size=n)\n",
    "    eps = np.random.normal(size=n)\n",
    "    y = X@beta + eps\n",
    "    arglist.append((r,BOOTREP,y,X))"
   ]
  },
  {
   "cell_type": "markdown",
   "metadata": {},
   "source": [
    "## Resampling Procedure"
   ]
  },
  {
   "cell_type": "code",
   "execution_count": null,
   "metadata": {},
   "outputs": [],
   "source": [
    "def Bootstrap(args):\n",
    "    (iter,BOOTREP,y,X)=args\n",
    "    import numpy as np\n",
    "    from sklearn import linear_model\n",
    "    from scipy.stats import norm\n",
    "    \n",
    "    def OLS(y,X):\n",
    "        N,p = X.shape                   # number of observations and regressors\n",
    "        XXi = np.linalg.inv(X.T @ X)\n",
    "        b_ols = XXi @ (X.T @ y)\n",
    "        res = y-X @ b_ols\n",
    "        s2 = (res @ res)/(N-p)\n",
    "        SE = np.sqrt(s2*np.diag(XXi))\n",
    "        return b_ols,SE,res\n",
    "    \n",
    "    n,p = X.shape\n",
    "    # Estimates original sample\n",
    "    lasso = linear_model.Lasso(alpha=0.02)\n",
    "    lasso.fit(X, y)\n",
    "    b_LASSO=np.copy(lasso.coef_)\n",
    "    b_OLS,b_OLS_SE,res = OLS(y,X)\n",
    "    # initilize bootstrap arrays\n",
    "    bB_LASSO = np.zeros((BOOTREP,p))\n",
    "    bB_OLS   = np.zeros((BOOTREP,p))\n",
    "    #\n",
    "    #\n",
    "    np.random.seed(1)\n",
    "    # balanced bootstap\n",
    "    index_B=np.random.permutation(np.repeat(np.arange(n),BOOTREP)).reshape((BOOTREP,n))\n",
    "    for b in range(BOOTREP):\n",
    "        index = index_B[b,:]  # select the indices\n",
    "        yB = np.copy(y[index])\n",
    "        XB = np.copy(X[index,:])\n",
    "        lasso.fit(XB, yB)\n",
    "        bB_LASSO[b,:] = np.copy(lasso.coef_)\n",
    "        # other code\n",
    "    # percentile\n",
    "    q_bB_LASSO = np.quantile(bB_LASSO,[0.05,0.95],axis=0)\n",
    "    q_bB_OLS   = np.quantile(bB_OLS,[0.05,0.95],axis=0)\n",
    "    argout = [b_LASSO,b_OLS     # add more when necessary\n",
    "             ]\n",
    "    return(argout)"
   ]
  },
  {
   "cell_type": "markdown",
   "metadata": {},
   "source": [
    "## Execute the Simulation and get Results"
   ]
  },
  {
   "cell_type": "code",
   "execution_count": null,
   "metadata": {},
   "outputs": [],
   "source": [
    "from multiprocess import Pool\n",
    "pool4 = Pool(processes=4)\n",
    "result_list = list(tqdm(pool4.imap_unordered(Bootstrap, arglist), total=REP))\n",
    "pool4.close()\n",
    "pool4.join()"
   ]
  },
  {
   "cell_type": "markdown",
   "metadata": {},
   "source": [
    "## Perform the Post-Processing"
   ]
  },
  {
   "cell_type": "code",
   "execution_count": null,
   "metadata": {},
   "outputs": [],
   "source": [
    "nr_methods=4                        # number of methods\n",
    "                                    # 0 = percentile\n",
    "                                    # 1 = SE_boot\n",
    "                                    # 2 = percentile-t\n",
    "                                    # 3 = BCa\n",
    "b_LASSO    =np.zeros((REP,p))\n",
    "b_OLS      =np.zeros((REP,p))\n",
    "for r in tqdm(range(REP)):\n",
    "    b_LASSO[r,:]  = result_list[r][0]\n",
    "    b_OLS[r,:]    = result_list[r][1]"
   ]
  },
  {
   "cell_type": "markdown",
   "metadata": {},
   "source": [
    "## Carry Out Analysis"
   ]
  },
  {
   "cell_type": "code",
   "execution_count": null,
   "metadata": {},
   "outputs": [],
   "source": []
  }
 ],
 "metadata": {
  "kernelspec": {
   "display_name": "Python 3",
   "language": "python",
   "name": "python3"
  },
  "language_info": {
   "codemirror_mode": {
    "name": "ipython",
    "version": 3
   },
   "file_extension": ".py",
   "mimetype": "text/x-python",
   "name": "python",
   "nbconvert_exporter": "python",
   "pygments_lexer": "ipython3",
   "version": "3.7.6"
  }
 },
 "nbformat": 4,
 "nbformat_minor": 4
}
