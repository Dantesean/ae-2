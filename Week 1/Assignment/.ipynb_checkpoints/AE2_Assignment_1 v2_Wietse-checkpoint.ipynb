{
 "cells": [
  {
   "cell_type": "markdown",
   "metadata": {
    "id": "mkgfx3kjrTzJ"
   },
   "source": [
    "## Programming Assignment - Bootstrap Methods - Adv. Econometrics 2\n",
    "\n",
    "**Deadline**:  Friday 17:00 hours, 8 January 2021\n",
    "\n",
    "|Nr|**Name**|**Student ID**|**Email**|\n",
    "|--|--------|--------------|---------|\n",
    "|1.|Dante van der Heijden|11020075|         |\n",
    "|2.|Wietse Steenstra|11004487|         |\n",
    "|3.|Willem Kullberg|              |         |\n",
    "\n",
    "**Declaration of Originality**\n",
    "\n",
    "We whose names are given under 1., 2. and 3. above declare that:\n",
    "\n",
    "1. These solutions are solely our own work.\n",
    "2. We have not made (part of) these solutions available to any other student.\n",
    "3. We shall not engage in any other activities that will dishonestly improve my results or dishonestly improve or hurt the results of others.\n",
    "\n",
    "## Instructions for completing and submitting the assignment\n",
    "1. Submit your work in the form of (i) a Jupyter Notebook and (ii) PDF-file via Canvas assuming basic econometric knowledge, before the deadline. Your notebook should not give errors when executed with `Run All`.\n",
    "2. Complete the table with the info of your group members. By submitting the Jupyter Notebook, you agree with the included declaration of originality. Do not copy work of others. This will be considered as fraud!\n",
    "3. Clarify your code with comments."
   ]
  },
  {
   "cell_type": "markdown",
   "metadata": {
    "id": "oKS8HShDrTzW"
   },
   "source": [
    "## Hints\n",
    "- Only use the paired bootstrap\n",
    "- Work with Numpy vectors or matrices as much as possible, e.g. `np.quantile(tB_OLS,[0.05,0.95],axis=0)` returns two quantiles for the whole vector of OLS estimates\n",
    "- When coding, you can reduce the running time by setting `BOOTREP=99` and reduce the number of simulations. For the final execution, please return to original values!\n",
    "- For a progress bar, please install `conda install -c conda-forge tqdm` or if you don't use anaconda use can just execute `pip install tqdm`\n",
    "- If you want to use plotly, please install `conda install -c plotly plotly`\n",
    "- Below, you can find Python code for generating the data and doing a simulation using multicores. To use multicores, you have to install `multiprocess`: `conda install -c conda-forge multiprocess`. Otherwise, execute `pip install multiprocess`\n",
    "- The idea behind multiprocess is that each CPU core receives a sample, executes the resampling and returns the results. These results will be stored in one big list, which can be analyzed after the simulation."
   ]
  },
  {
   "cell_type": "markdown",
   "metadata": {
    "id": "uhahmUbxrTzX"
   },
   "source": [
    "## Assignment \n",
    "\n",
    "The purpose of this assignment is for you to gain practical experience with resampling methods. You will investigate several bootstrap confidence intervals for OLS and LASSO estimators. The DGP is given by:\n",
    "\n",
    "- $X_i \\sim N(0,\\Sigma)$, $\\Sigma=(\\sigma_{ij}) \\in \\mathbb{R}^{p\\times p}$ with $\\sigma_{ij}=\\rho^{|i-j|}$, $\\beta_j=0$ for $1\\leq j\\leq p-15$, $\\beta_j=0.5$ for $p-14\\leq j\\leq p-10$, $\\beta_j=1.5$ for $p-9\\leq j \\leq p-5$ $\\beta_j=2.5$ for $p-4 \\leq j \\leq p$. \n",
    "\n",
    "- $\\varepsilon_1,...,\\varepsilon_n \\sim N(0,1)$\n",
    "\n",
    "- $y=X \\beta+\\varepsilon$\n",
    "\n",
    "Let $\\hat{\\beta}=(X'X)^{-1}X'y$ denote the OLS estimator, while $\\breve{\\beta}$ denote the LASSO estimator based on minimizing\n",
    "$$ \\sum_{i=1}^{n} (y_i- b'X_i)^2+\\alpha \\sum_{j=1}^{p}|b_j|.$$\n",
    "Only consider `lasso = linear_model.Lasso(alpha=0.02)`, so keep the amount of regularization fixed!\n",
    "\n",
    "Please, briefly answer all questions below using graphs and if necessary tables."
   ]
  },
  {
   "cell_type": "markdown",
   "metadata": {
    "id": "SL9PbqecdOKh"
   },
   "source": [
    "## Import packages"
   ]
  },
  {
   "cell_type": "code",
   "execution_count": 1,
   "metadata": {
    "id": "oujyFK01dKHN"
   },
   "outputs": [],
   "source": [
    "import numpy as np\n",
    "from sklearn import linear_model\n",
    "# import plotly.express as px        # uncomment if you want to use plotly.express\n",
    "import matplotlib.pyplot as plt\n",
    "from tqdm.notebook import tqdm\n",
    "import pandas as pd"
   ]
  },
  {
   "cell_type": "markdown",
   "metadata": {
    "id": "1hdDtin4c7dM"
   },
   "source": [
    "## Generate Samples"
   ]
  },
  {
   "cell_type": "code",
   "execution_count": 2,
   "metadata": {
    "colab": {
     "base_uri": "https://localhost:8080/",
     "height": 66,
     "referenced_widgets": [
      "ed62bd47f6ce4b20b30adb9d7d0daf49",
      "d4f29e4f304047f4a6297ef5eb2be59b",
      "b56e3f4b156640f79dd163b803605e3c",
      "b2e5af4de98647a9bc44ab0bd0af70db",
      "7a6130d189144e0e90ce7ce18ea33061",
      "f2fc87ccd1c74f6296c21b10102ed41f",
      "d56462385c604ae7be500c26fa865972",
      "338ee7e72aa249e1aaedfc1e7c75a96b"
     ]
    },
    "id": "-mwqiT_Gc7dM",
    "outputId": "f73a9202-08e7-463d-f259-b9a464f09063"
   },
   "outputs": [
    {
     "data": {
      "application/vnd.jupyter.widget-view+json": {
       "model_id": "aba297e0a5ee4f02b62205979aad3eca",
       "version_major": 2,
       "version_minor": 0
      },
      "text/plain": [
       "  0%|          | 0/1000 [00:00<?, ?it/s]"
      ]
     },
     "metadata": {},
     "output_type": "display_data"
    }
   ],
   "source": [
    "REP = 1000                            # numer of Monte Carlo simulations\n",
    "BOOTREP = 99                         # number of bootstrap replications SET BACK TO 999\n",
    "n = 50\n",
    "p = 25\n",
    "rho = 0.6\n",
    "mu = np.zeros(p)\n",
    "Sigma = np.identity(p)\n",
    "for i in range(p):\n",
    "    for j in range(p):\n",
    "        Sigma[i,j] = rho**abs(i - j)\n",
    "beta = np.zeros(p)\n",
    "beta[(p - 15):(p - 10)] = 0.5\n",
    "beta[(p - 10):(p - 5)] = 1.5\n",
    "beta[(p - 5):] = 2.5\n",
    "arglist=[]\n",
    "for r in tqdm(range(REP)):\n",
    "    X = np.random.multivariate_normal(mean=mu, cov=Sigma, size=n)\n",
    "    eps = np.random.normal(size=n)\n",
    "    y = X@beta + eps\n",
    "    arglist.append((r,BOOTREP,y,X))"
   ]
  },
  {
   "cell_type": "markdown",
   "metadata": {
    "id": "i_Uk0yM6rTzd"
   },
   "source": [
    "## Resampling Procedure"
   ]
  },
  {
   "cell_type": "code",
   "execution_count": 19,
   "metadata": {
    "id": "51YQNBXZrTze"
   },
   "outputs": [],
   "source": [
    "def Bootstrap(args):\n",
    "    (iter,BOOTREP,y,X)=args\n",
    "    \n",
    "    # Define OLS function\n",
    "    def OLS(y,X):\n",
    "        N,p = X.shape                   # number of observations and regressors\n",
    "        XXi = np.linalg.inv(X.T @ X)\n",
    "        b_ols = XXi @ (X.T @ y)\n",
    "        res = y-X @ b_ols\n",
    "        s2 = (res @ res)/(N-p)\n",
    "        SE = np.sqrt(s2*np.diag(XXi))\n",
    "        return b_ols,SE,res\n",
    "    \n",
    "    import numpy as np\n",
    "    from sklearn import linear_model\n",
    "    from scipy.stats import norm\n",
    "    \n",
    "    n,p = X.shape\n",
    "    # Estimates original sample\n",
    "    lasso = linear_model.Lasso(alpha=0.02)\n",
    "    lasso.fit(X, y)\n",
    "    b_LASSO=np.copy(lasso.coef_)\n",
    "    b_OLS,b_OLS_SE,res = OLS(y,X)\n",
    "    # initilize bootstrap arrays\n",
    "    bB_LASSO = np.zeros((BOOTREP,p))\n",
    "    bB_OLS   = np.zeros((BOOTREP,p))\n",
    "    bB_OLS_SE = np.zeros((BOOTREP,p))\n",
    "    tB = np.zeros((BOOTREP,p))\n",
    "\n",
    "    np.random.seed(1)\n",
    "    # balanced bootstap\n",
    "    index_B=np.random.permutation(np.repeat(np.arange(n),BOOTREP)).reshape((BOOTREP,n))\n",
    "    for b in range(BOOTREP):\n",
    "        index = index_B[b,:]  # select the indices\n",
    "        yB = np.copy(y[index])\n",
    "        XB = np.copy(X[index,:])\n",
    "        lasso.fit(XB, yB)\n",
    "        bB_LASSO[b,:] = np.copy(lasso.coef_)\n",
    "        bB_OLS[b,:], bB_OLS_SE[b,:], bres = OLS(yB, XB)\n",
    "        tB[b, :] = (bB_OLS[b]-b_OLS)/bB_OLS_SE[b]\n",
    "        \n",
    "    se_boot_OLS = np.std(bB_OLS, axis=0)\n",
    "    se_boot_LASSO = np.std(bB_LASSO, axis=0)\n",
    "    \n",
    "    # percentile\n",
    "    q_bB_LASSO = np.quantile(bB_LASSO,[0.05,0.95],axis=0)\n",
    "    q_bB_OLS   = np.quantile(bB_OLS,[0.05,0.95],axis=0)\n",
    "    q_tB_OLS   = np.quantile(tB,[0.05,0.95],axis=0)\n",
    "\n",
    "    argout = [b_LASSO,b_OLS, b_OLS_SE, se_boot_LASSO, se_boot_OLS, q_bB_LASSO, q_bB_OLS, q_tB_OLS    # add more when necessary\n",
    "             ]\n",
    "    return(argout)"
   ]
  },
  {
   "cell_type": "markdown",
   "metadata": {
    "id": "LBe8nzG6rTzf"
   },
   "source": [
    "## Execute the Simulation and get Results"
   ]
  },
  {
   "cell_type": "code",
   "execution_count": 20,
   "metadata": {
    "colab": {
     "base_uri": "https://localhost:8080/",
     "height": 66,
     "referenced_widgets": [
      "0449887a19cc49258d4a7eb717850dd3",
      "f04b1a27bdf245faa9c4f6d8704e27d4",
      "29540b41119c4481975e4d588ec83a8e",
      "69e166bd206c4cc4890bbe407e9207e3",
      "d725072d2e794b7181ada136c3f6b002",
      "54246b40266c4286b2f10235d19db0ab",
      "7684a71af4424789bf14d363b29fd86b",
      "a187c06fb3e24702bb011c271bb5d178"
     ]
    },
    "id": "MRwKigcArTzg",
    "outputId": "99f9bdbd-c649-4165-c501-6a5588ca4757"
   },
   "outputs": [
    {
     "data": {
      "application/vnd.jupyter.widget-view+json": {
       "model_id": "376c08e3d94c4cbca467f9aae9aabbb0",
       "version_major": 2,
       "version_minor": 0
      },
      "text/plain": [
       "  0%|          | 0/1000 [00:00<?, ?it/s]"
      ]
     },
     "metadata": {},
     "output_type": "display_data"
    }
   ],
   "source": [
    "from multiprocess import Pool\n",
    "pool4 = Pool(processes=4)\n",
    "result_list = list(tqdm(pool4.imap_unordered(Bootstrap, arglist), total=REP))\n",
    "pool4.close()\n",
    "pool4.join()"
   ]
  },
  {
   "cell_type": "markdown",
   "metadata": {
    "id": "LKrdRpkGrTzh"
   },
   "source": [
    "## Perform the Post-Processing"
   ]
  },
  {
   "cell_type": "code",
   "execution_count": 24,
   "metadata": {
    "colab": {
     "base_uri": "https://localhost:8080/",
     "height": 66,
     "referenced_widgets": [
      "ceb09d7d633745a998f0ab6e244b9f30",
      "cefbe1c2acac4bb981a2818408a6ea14",
      "b81dcd9da9d147c4a3c80998dbad6d25",
      "9f6b98d470be4d29952a2a37dc1c7f1d",
      "1abdb5c042eb40919e550238e5639f5e",
      "f5ec1b77fbeb44518eb502f9459a4a11",
      "a99e81b5d50d4d3bae1ce098276ca5ad",
      "955abcb53a5448659fe947777a417394"
     ]
    },
    "id": "mIed1iwfrTzh",
    "outputId": "6ba30e7d-e164-4771-c9b2-3db2c93957b7"
   },
   "outputs": [
    {
     "data": {
      "application/vnd.jupyter.widget-view+json": {
       "model_id": "9457eeab726c4f448a7935d827e6ad89",
       "version_major": 2,
       "version_minor": 0
      },
      "text/plain": [
       "  0%|          | 0/1000 [00:00<?, ?it/s]"
      ]
     },
     "metadata": {},
     "output_type": "display_data"
    }
   ],
   "source": [
    "nr_methods=4                        # number of methods\n",
    "                                    # 0 = percentile\n",
    "                                    # 1 = SE_boot\n",
    "                                    # 2 = percentile-t\n",
    "                                    # 3 = BCa\n",
    "\n",
    "# Initialize arrays\n",
    "# Bootstrap regressors and SEs\n",
    "b_LASSO    =np.zeros((REP,p))\n",
    "b_OLS      =np.zeros((REP,p))\n",
    "b_OLS_SE = np.zeros((REP,p))\n",
    "se_boot_LASSO    =np.zeros((REP,p))\n",
    "se_boot_OLS      =np.zeros((REP,p))\n",
    "\n",
    "# Bootstrap upper and lower bounds for CIs\n",
    "lb_boot_LASSO = np.zeros((REP,p))\n",
    "ub_boot_LASSO = np.zeros((REP,p))\n",
    "lb_boot_OLS = np.zeros((REP,p))\n",
    "ub_boot_OLS = np.zeros((REP,p))\n",
    "t_lb_boot_OLS = np.zeros((REP,p))\n",
    "t_ub_boot_OLS = np.zeros((REP,p))\n",
    "\n",
    "for r in tqdm(range(REP)):\n",
    "    b_LASSO[r,:]  = result_list[r][0]\n",
    "    b_OLS[r,:]    = result_list[r][1]\n",
    "    b_OLS_SE[r,:] = result_list[r][2]\n",
    "    se_boot_LASSO[r,:] = result_list[r][3]\n",
    "    se_boot_OLS[r,:] = result_list[r][4]\n",
    "    lb_boot_LASSO[r,:] = result_list[r][5][0]\n",
    "    ub_boot_LASSO[r,:] = result_list[r][5][1]\n",
    "    lb_boot_OLS[r,:] = result_list[r][6][0]\n",
    "    ub_boot_OLS[r,:] = result_list[r][6][1]\n",
    "    t_lb_boot_OLS[r,:] = result_list[r][7][0]\n",
    "    t_ub_boot_OLS[r,:] = result_list[r][7][1]\n",
    "    \n",
    "percentile_t_lb = b_OLS - t_ub_boot_OLS*b_OLS_SE\n",
    "percentile_t_ub = b_OLS - t_lb_boot_OLS*b_OLS_SE"
   ]
  },
  {
   "cell_type": "code",
   "execution_count": 23,
   "metadata": {},
   "outputs": [
    {
     "data": {
      "text/plain": [
       "50"
      ]
     },
     "execution_count": 23,
     "metadata": {},
     "output_type": "execute_result"
    }
   ],
   "source": []
  },
  {
   "cell_type": "markdown",
   "metadata": {
    "id": "_0fv7e_mrTzY"
   },
   "source": [
    "1. Choose $n=50$, $p=25$ and $\\rho=0.6$. Determine the bias and RMSE of the OLS and LASSO estimators using 1,000 Monte Carlo replications."
   ]
  },
  {
   "cell_type": "markdown",
   "metadata": {
    "id": "l70XY8XUrTzi"
   },
   "source": [
    "## Carry Out Analysis"
   ]
  },
  {
   "cell_type": "code",
   "execution_count": 6,
   "metadata": {
    "colab": {
     "base_uri": "https://localhost:8080/"
    },
    "id": "tQU_M8b4rTzj",
    "outputId": "d9d16b4f-70ed-4632-8b3a-d32482596900"
   },
   "outputs": [
    {
     "name": "stdout",
     "output_type": "stream",
     "text": [
      "Avg OLS bias = 0.007322085960657949, Avg Lasso bias = 0.010513097346203686\n",
      "Avg OLS SE = 0.2924945626399042, Avg Lasso SE = 0.24096261146479173\n",
      "Avg OLS RMSE = 0.29262223547211685, Avg Lasso RMSE = 0.24141480007263294\n"
     ]
    },
    {
     "data": {
      "text/plain": [
       "<AxesSubplot:>"
      ]
     },
     "execution_count": 6,
     "metadata": {},
     "output_type": "execute_result"
    },
    {
     "data": {
      "text/plain": [
       "<Figure size 7200x4800 with 0 Axes>"
      ]
     },
     "metadata": {},
     "output_type": "display_data"
    },
    {
     "data": {
      "image/png": "[encoded data removed]",
      "text/plain": [
       "<Figure size 1440x360 with 2 Axes>"
      ]
     },
     "metadata": {
      "needs_background": "light"
     },
     "output_type": "display_data"
    }
   ],
   "source": [
    "##### 1.\n",
    "# Calculate bias for each regressor\n",
    "MC_mean_OLS = np.mean(b_OLS, axis = 0)\n",
    "MC_mean_LASSO = np.mean(b_LASSO, axis = 0)\n",
    "MC_bias_OLS = MC_mean_OLS - beta\n",
    "MC_bias_LASSO = MC_mean_LASSO - beta\n",
    "\n",
    "# Calculate SE for each regressor\n",
    "MC_SE_OLS = np.std(b_OLS, axis = 0)\n",
    "MC_SE_LASSO = np.std(b_LASSO, axis = 0)\n",
    "\n",
    "# Mean absolute bias\n",
    "avg_bias_OLS = np.mean(abs(MC_bias_OLS))\n",
    "avg_bias_LASSO = np.mean(abs(MC_bias_LASSO))\n",
    "\n",
    "# Mean SE\n",
    "avg_SE_OLS = np.mean(MC_SE_OLS)\n",
    "avg_SE_LASSO = np.mean(MC_SE_LASSO)\n",
    "\n",
    "RMSE_OLS = np.sqrt(np.mean((b_OLS - beta)**2, axis=0))\n",
    "RMSE_LASSO = np.sqrt(np.mean((b_LASSO - beta)**2, axis=0))\n",
    "\n",
    "print(\"Avg OLS bias = {0}, Avg Lasso bias = {1}\".format(avg_bias_OLS,avg_bias_LASSO))\n",
    "print(\"Avg OLS SE = {0}, Avg Lasso SE = {1}\".format(avg_SE_OLS,avg_SE_LASSO))\n",
    "print(\"Avg OLS RMSE = {0}, Avg Lasso RMSE = {1}\".format(np.mean(RMSE_OLS), np.mean(RMSE_LASSO)))\n",
    "\n",
    "# Create DFs for plots\n",
    "q1_bias = pd.DataFrame({\"OLS\": MC_bias_OLS, \"LASSO\": MC_bias_LASSO})\n",
    "q1_RMSE = pd.DataFrame({\"OLS\": RMSE_OLS, \"LASSO\": RMSE_LASSO})\n",
    "indices = []\n",
    "for i in range(len(q1_bias.index)):\n",
    "    indices.append(\"$β_{\" + str(i) + \"}$\")\n",
    "\n",
    "q1_bias.index = indices\n",
    "q1_RMSE.index = indices\n",
    "\n",
    "plt.figure(dpi=1200)\n",
    "\n",
    "fig1, axes1 = plt.subplots(1, 2, figsize=(20,5))\n",
    "q1_bias.plot.bar(ax=axes1[0])\n",
    "q1_RMSE.plot.bar(ax=axes1[1])"
   ]
  },
  {
   "cell_type": "markdown",
   "metadata": {
    "id": "SLSlythkrTzY"
   },
   "source": [
    "2. Estimate by simulation the coverage probabilities (cov. prob.) of the 90% first-order asymptotic two-sided confidence intervals for the OLS estimator, i.e. the fraction of confidence intervals (CI)\n",
    "$$[\\hat{\\beta_j}-1.645 SE(\\hat{\\beta_j}),\\hat{\\beta_j}+1.645 SE(\\hat{\\beta_j})]$$\n",
    "that contains the true parameter $\\beta_j$. Here $SE(\\hat{\\beta_j})$ is the usual (non-robust) standard error based on $s^2(X'X)^{-1}$."
   ]
  },
  {
   "cell_type": "code",
   "execution_count": 7,
   "metadata": {},
   "outputs": [
    {
     "name": "stdout",
     "output_type": "stream",
     "text": [
      "Average coverage probability = 0.8933999999999999\n"
     ]
    },
    {
     "data": {
      "text/plain": [
       "<matplotlib.legend.Legend at 0x127006650>"
      ]
     },
     "execution_count": 7,
     "metadata": {},
     "output_type": "execute_result"
    },
    {
     "data": {
      "image/png": "[encoded data removed]",
      "text/plain": [
       "<Figure size 576x720 with 1 Axes>"
      ]
     },
     "metadata": {
      "needs_background": "light"
     },
     "output_type": "display_data"
    }
   ],
   "source": [
    "##### 2.\n",
    "mc_ols_lb = pd.DataFrame(b_OLS) - 1.645*b_OLS_SE\n",
    "mc_ols_ub = pd.DataFrame(b_OLS) + 1.645*b_OLS_SE\n",
    "\n",
    "mc_ols_CI = mc_ols_lb.le(pd.Series(beta).T, axis=1) & mc_ols_ub.ge(pd.Series(beta).T, axis=1)\n",
    "mc_ols_cov_avg_prob = np.mean(mc_ols_CI.sum()/REP)\n",
    "\n",
    "print(\"Average coverage probability = {}\".format(mc_ols_cov_avg_prob))\n",
    "\n",
    "q2_CI_conv = pd.DataFrame({\"Coverage Probability\": (mc_ols_CI.sum()/REP)})\n",
    "q2_CI_conv.index = indices\n",
    "fig2, axes2 = plt.subplots(1, 1, figsize=(8,10))\n",
    "(q2_CI_conv).plot.barh(ax=axes2, label=\"Coverage Probability\")\n",
    "axes2.title.set_text(\"Coverage Probability OLS\")\n",
    "axes2.axvline(x=0.8814, color='red', ls='--', label='Lower bound (0.8814)')\n",
    "axes2.axvline(x=0.9, color='green', ls=':', label='0.9')\n",
    "axes2.axvline(x=0.9186, color='red', ls='--', label='Upper bound (0.9186)')\n",
    "axes2.legend(bbox_to_anchor=(1.05,1))"
   ]
  },
  {
   "cell_type": "markdown",
   "metadata": {
    "id": "K6cwlSqcrTzY"
   },
   "source": [
    "3. Estimate by simulation the cov. prob. of the 90% first-order asymptotic two-sided CI for OLS and LASSO using $$SE_{boot}(\\tilde{\\beta}),$$\n",
    "for $$\\tilde{\\beta}\\in \\{\\hat{\\beta},\\breve{\\beta}\\}.$$"
   ]
  },
  {
   "cell_type": "code",
   "execution_count": 8,
   "metadata": {
    "colab": {
     "base_uri": "https://localhost:8080/"
    },
    "id": "ab7h2pnXL1sF",
    "outputId": "ce61c8f5-1bd9-47dc-8491-a39616aa26b8"
   },
   "outputs": [
    {
     "name": "stdout",
     "output_type": "stream",
     "text": [
      "Average coverage probability OLS = 0.99592\n",
      "Average coverage probability LASSO = 0.9721599999999999\n"
     ]
    },
    {
     "data": {
      "text/plain": [
       "<matplotlib.legend.Legend at 0x127088410>"
      ]
     },
     "execution_count": 8,
     "metadata": {},
     "output_type": "execute_result"
    },
    {
     "data": {
      "image/png": "[encoded data removed]",
      "text/plain": [
       "<Figure size 864x720 with 2 Axes>"
      ]
     },
     "metadata": {
      "needs_background": "light"
     },
     "output_type": "display_data"
    }
   ],
   "source": [
    "##### 3.\n",
    "boot_ols_lb = pd.DataFrame(b_OLS) - 1.645*se_boot_OLS[0]\n",
    "boot_ols_ub = pd.DataFrame(b_OLS) + 1.645*se_boot_OLS[0]\n",
    "boot_lasso_lb = pd.DataFrame(b_LASSO) - 1.645*se_boot_LASSO[0]\n",
    "boot_lasso_ub = pd.DataFrame(b_LASSO) + 1.645*se_boot_LASSO[0]\n",
    "\n",
    "boot_ols_CI = boot_ols_lb.le(pd.Series(beta).T, axis=1) & boot_ols_ub.ge(pd.Series(beta).T, axis=1)\n",
    "boot_ols_cov_avg_prob = np.mean(boot_ols_CI.sum()/REP)\n",
    "boot_lasso_CI = boot_lasso_lb.le(pd.Series(beta).T, axis=1) & boot_lasso_ub.ge(pd.Series(beta).T, axis=1)\n",
    "boot_lasso_cov_avg_prob = np.mean(boot_lasso_CI.sum()/REP)\n",
    "\n",
    "print(\"Average coverage probability OLS = {}\".format(boot_ols_cov_avg_prob))\n",
    "print(\"Average coverage probability LASSO = {}\".format(boot_lasso_cov_avg_prob))\n",
    "\n",
    "q3_CI_conv_OLS = pd.DataFrame({\"Coverage Probability\": (boot_ols_CI.sum()/REP)})\n",
    "q3_CI_conv_LASSO = pd.DataFrame({\"Coverage Probability\": (boot_lasso_CI.sum()/REP)})\n",
    "q3_CI_conv_OLS.index = indices\n",
    "q3_CI_conv_LASSO.index = indices\n",
    "fig3, axes3 = plt.subplots(1, 2, figsize=(12,10))\n",
    "(q3_CI_conv_OLS).plot.barh(ax=axes3[0], label=\"Coverage Probability\")\n",
    "axes3[0].title.set_text(\"Coverage Probability OLS\")\n",
    "axes3[0].axvline(x=0.8814, color='red', ls='--', label='Lower bound (0.8814)')\n",
    "axes3[0].axvline(x=0.9, color='green', ls=':', label='0.9')\n",
    "axes3[0].axvline(x=0.9186, color='red', ls='--', label='Upper bound (0.9186)')\n",
    "axes3[0].get_legend().remove()\n",
    "(q3_CI_conv_LASSO).plot.barh(ax=axes3[1], label=\"Coverage Probability\")\n",
    "axes3[1].title.set_text(\"Coverage Probability LASSO\")\n",
    "axes3[1].axvline(x=0.8814, color='red', ls='--', label='Lower bound (0.8814)')\n",
    "axes3[1].axvline(x=0.9, color='green', ls=':', label='0.9')\n",
    "axes3[1].axvline(x=0.9186, color='red', ls='--', label='Upper bound (0.9186)')\n",
    "axes3[1].legend(bbox_to_anchor=(1.05,1))"
   ]
  },
  {
   "cell_type": "markdown",
   "metadata": {
    "id": "Gkdm3ZggrTzZ"
   },
   "source": [
    "4. Note that the cov. prob. can be interpreted as the number of successes in 1,000 trials. Hence, the estimated cov. prob. is not significantly different (at the 95% confidence level) from 90% if its value is contained in the interval\n",
    "$$0.90\\pm 1.96\\sqrt{(0.90\\times 0.10/1000)}=[0.8814,0.9186].$$\n",
    "Check if the estimated cov. prob. of questions 2 & 3 are significantly different from 90%. What is your conclusion?"
   ]
  },
  {
   "cell_type": "markdown",
   "metadata": {
    "colab": {
     "base_uri": "https://localhost:8080/"
    },
    "id": "kbeTeErzOekU",
    "outputId": "01ed8cf6-d720-46f2-828a-07d0f8b695f2"
   },
   "source": [
    "It is clear that the bootstrapped coverage probability is way higher than that of the non-bootstrapped. This difference is even larger between individual coverage probabilities of the parameters $\\beta_i$, as noted in the graphs above. What can be noted is that the OLS estimator with bootstrapped std. errors is far superior.\n",
    "\n",
    "However, all of the coverage probabilities from questions 2 and 3 are significantlly higher than 90%, as they all fall in the confidence interval $[0.8814,0.9186]$."
   ]
  },
  {
   "cell_type": "markdown",
   "metadata": {
    "id": "u_YwiVfgrTzZ"
   },
   "source": [
    "5. Estimate by simulation the cov. prob. for OLS and LASSO of 90% equal-tailed two-sided percentile bootstrap confidence intervals:\n",
    "$$(\\tilde{\\beta}_{95\\%}^*,\\tilde{\\beta}_{5\\%}^*),$$\n",
    "where $\\mathbb{P}_*[\\tilde{\\beta}^*>\\beta_{5\\%}^*]=5\\%$ and  $\\tilde{\\beta}\\in \\{\\hat{\\beta},\\breve{\\beta}\\}$."
   ]
  },
  {
   "cell_type": "code",
   "execution_count": 9,
   "metadata": {},
   "outputs": [
    {
     "name": "stdout",
     "output_type": "stream",
     "text": [
      "Average coverage probability of OLS = 0.98732\n",
      "Average coverage probability LASSO = 0.9677199999999999\n"
     ]
    },
    {
     "data": {
      "text/plain": [
       "<matplotlib.legend.Legend at 0x1273de590>"
      ]
     },
     "execution_count": 9,
     "metadata": {},
     "output_type": "execute_result"
    },
    {
     "data": {
      "image/png": "[encoded data removed]",
      "text/plain": [
       "<Figure size 864x720 with 2 Axes>"
      ]
     },
     "metadata": {
      "needs_background": "light"
     },
     "output_type": "display_data"
    }
   ],
   "source": [
    "##### 5. \n",
    "\n",
    "# Create confidence intervals based on bootstrap\n",
    "boot_ols_CI = pd.DataFrame(lb_boot_OLS).le(pd.Series(beta).T, axis=1) & pd.DataFrame(ub_boot_OLS).ge(pd.Series(beta).T, axis=1)\n",
    "boot_lasso_CI = pd.DataFrame(lb_boot_LASSO).le(pd.Series(beta).T, axis=1) & pd.DataFrame(ub_boot_LASSO).ge(pd.Series(beta).T, axis=1)\n",
    "\n",
    "# Calculate coverage probabalities\n",
    "boot_ols_cov_avg_prob = np.mean(boot_ols_CI.sum()/REP)\n",
    "boot_lasso_cov_avg_prob = np.mean(boot_lasso_CI.sum()/REP)\n",
    "\n",
    "print(\"Average coverage probability of OLS = {}\".format(boot_ols_cov_avg_prob))\n",
    "print(\"Average coverage probability LASSO = {}\".format(boot_lasso_cov_avg_prob))\n",
    "\n",
    "q5_CI_conv_OLS = pd.DataFrame({\"Coverage Probability\": (boot_ols_CI.sum()/REP)})\n",
    "q5_CI_conv_LASSO = pd.DataFrame({\"Coverage Probability\": (boot_lasso_CI.sum()/REP)})\n",
    "q5_CI_conv_OLS.index = indices\n",
    "q5_CI_conv_LASSO.index = indices\n",
    "fig4, axes4 = plt.subplots(1, 2, figsize=(12,10))\n",
    "(q5_CI_conv_OLS).plot.barh(ax=axes4[0], label=\"Coverage Probability\")\n",
    "axes4[0].title.set_text(\"Coverage Probability OLS\")\n",
    "axes4[0].axvline(x=0.8814, color='red', ls='--', label='Lower bound (0.8814)')\n",
    "axes4[0].axvline(x=0.9, color='green', ls=':', label='0.9')\n",
    "axes4[0].axvline(x=0.9186, color='red', ls='--', label='Upper bound (0.9186)')\n",
    "axes4[0].get_legend().remove()\n",
    "(q5_CI_conv_LASSO).plot.barh(ax=axes4[1], label=\"Coverage Probability\")\n",
    "axes4[1].title.set_text(\"Coverage Probability LASSO\")\n",
    "axes4[1].axvline(x=0.8814, color='red', ls='--', label='Lower bound (0.8814)')\n",
    "axes4[1].axvline(x=0.9, color='green', ls=':', label='0.9')\n",
    "axes4[1].axvline(x=0.9186, color='red', ls='--', label='Upper bound (0.9186)')\n",
    "axes4[1].legend(bbox_to_anchor=(1.05,1))"
   ]
  },
  {
   "cell_type": "markdown",
   "metadata": {
    "id": "5uzXZ99crTza"
   },
   "source": [
    "6.  Estimate by simulation the cov. prob. for OLS of 90% equal-tailed two-sided percentile-$t$ bootstrap confidence intervals based on the quantiles of the root\n",
    "$$(\\hat{\\beta}^*-\\hat{\\beta})/SE(\\hat{\\beta}^*),$$ \n",
    "where $SE(\\hat{\\beta}^*)$ is based on $s^{*2}(X^{*}\\,' X^{*})^{-1}$."
   ]
  },
  {
   "cell_type": "code",
   "execution_count": 17,
   "metadata": {
    "scrolled": true
   },
   "outputs": [
    {
     "name": "stdout",
     "output_type": "stream",
     "text": [
      "Average coverage probability of OLS = 0.9910000000000001\n"
     ]
    },
    {
     "data": {
      "text/html": [
       "<div>\n",
       "<style scoped>\n",
       "    .dataframe tbody tr th:only-of-type {\n",
       "        vertical-align: middle;\n",
       "    }\n",
       "\n",
       "    .dataframe tbody tr th {\n",
       "        vertical-align: top;\n",
       "    }\n",
       "\n",
       "    .dataframe thead th {\n",
       "        text-align: right;\n",
       "    }\n",
       "</style>\n",
       "<table border=\"1\" class=\"dataframe\">\n",
       "  <thead>\n",
       "    <tr style=\"text-align: right;\">\n",
       "      <th></th>\n",
       "      <th>Coverage Probability</th>\n",
       "    </tr>\n",
       "  </thead>\n",
       "  <tbody>\n",
       "    <tr>\n",
       "      <th>$t_{0}$</th>\n",
       "      <td>0.992</td>\n",
       "    </tr>\n",
       "    <tr>\n",
       "      <th>$t_{1}$</th>\n",
       "      <td>0.989</td>\n",
       "    </tr>\n",
       "    <tr>\n",
       "      <th>$t_{2}$</th>\n",
       "      <td>0.994</td>\n",
       "    </tr>\n",
       "    <tr>\n",
       "      <th>$t_{3}$</th>\n",
       "      <td>0.990</td>\n",
       "    </tr>\n",
       "    <tr>\n",
       "      <th>$t_{4}$</th>\n",
       "      <td>0.996</td>\n",
       "    </tr>\n",
       "    <tr>\n",
       "      <th>$t_{5}$</th>\n",
       "      <td>0.993</td>\n",
       "    </tr>\n",
       "    <tr>\n",
       "      <th>$t_{6}$</th>\n",
       "      <td>0.992</td>\n",
       "    </tr>\n",
       "    <tr>\n",
       "      <th>$t_{7}$</th>\n",
       "      <td>0.987</td>\n",
       "    </tr>\n",
       "    <tr>\n",
       "      <th>$t_{8}$</th>\n",
       "      <td>0.987</td>\n",
       "    </tr>\n",
       "    <tr>\n",
       "      <th>$t_{9}$</th>\n",
       "      <td>0.993</td>\n",
       "    </tr>\n",
       "    <tr>\n",
       "      <th>$t_{10}$</th>\n",
       "      <td>0.991</td>\n",
       "    </tr>\n",
       "    <tr>\n",
       "      <th>$t_{11}$</th>\n",
       "      <td>0.985</td>\n",
       "    </tr>\n",
       "    <tr>\n",
       "      <th>$t_{12}$</th>\n",
       "      <td>0.986</td>\n",
       "    </tr>\n",
       "    <tr>\n",
       "      <th>$t_{13}$</th>\n",
       "      <td>0.990</td>\n",
       "    </tr>\n",
       "    <tr>\n",
       "      <th>$t_{14}$</th>\n",
       "      <td>0.991</td>\n",
       "    </tr>\n",
       "    <tr>\n",
       "      <th>$t_{15}$</th>\n",
       "      <td>0.993</td>\n",
       "    </tr>\n",
       "    <tr>\n",
       "      <th>$t_{16}$</th>\n",
       "      <td>0.993</td>\n",
       "    </tr>\n",
       "    <tr>\n",
       "      <th>$t_{17}$</th>\n",
       "      <td>0.989</td>\n",
       "    </tr>\n",
       "    <tr>\n",
       "      <th>$t_{18}$</th>\n",
       "      <td>0.991</td>\n",
       "    </tr>\n",
       "    <tr>\n",
       "      <th>$t_{19}$</th>\n",
       "      <td>0.995</td>\n",
       "    </tr>\n",
       "    <tr>\n",
       "      <th>$t_{20}$</th>\n",
       "      <td>0.992</td>\n",
       "    </tr>\n",
       "    <tr>\n",
       "      <th>$t_{21}$</th>\n",
       "      <td>0.995</td>\n",
       "    </tr>\n",
       "    <tr>\n",
       "      <th>$t_{22}$</th>\n",
       "      <td>0.992</td>\n",
       "    </tr>\n",
       "    <tr>\n",
       "      <th>$t_{23}$</th>\n",
       "      <td>0.993</td>\n",
       "    </tr>\n",
       "    <tr>\n",
       "      <th>$t_{24}$</th>\n",
       "      <td>0.986</td>\n",
       "    </tr>\n",
       "  </tbody>\n",
       "</table>\n",
       "</div>"
      ],
      "text/plain": [
       "          Coverage Probability\n",
       "$t_{0}$                  0.992\n",
       "$t_{1}$                  0.989\n",
       "$t_{2}$                  0.994\n",
       "$t_{3}$                  0.990\n",
       "$t_{4}$                  0.996\n",
       "$t_{5}$                  0.993\n",
       "$t_{6}$                  0.992\n",
       "$t_{7}$                  0.987\n",
       "$t_{8}$                  0.987\n",
       "$t_{9}$                  0.993\n",
       "$t_{10}$                 0.991\n",
       "$t_{11}$                 0.985\n",
       "$t_{12}$                 0.986\n",
       "$t_{13}$                 0.990\n",
       "$t_{14}$                 0.991\n",
       "$t_{15}$                 0.993\n",
       "$t_{16}$                 0.993\n",
       "$t_{17}$                 0.989\n",
       "$t_{18}$                 0.991\n",
       "$t_{19}$                 0.995\n",
       "$t_{20}$                 0.992\n",
       "$t_{21}$                 0.995\n",
       "$t_{22}$                 0.992\n",
       "$t_{23}$                 0.993\n",
       "$t_{24}$                 0.986"
      ]
     },
     "metadata": {},
     "output_type": "display_data"
    },
    {
     "data": {
      "image/png": "[encoded data removed]",
      "text/plain": [
       "<Figure size 576x720 with 1 Axes>"
      ]
     },
     "metadata": {
      "needs_background": "light"
     },
     "output_type": "display_data"
    }
   ],
   "source": [
    "# Create confidence intervals based on bootstrap\n",
    "t_boot_ols_CI = pd.DataFrame(percentile_t_lb).le(pd.Series(beta).T, axis=1) & pd.DataFrame(percentile_t_ub).ge(pd.Series(beta).T, axis=1)\n",
    "\n",
    "# Calculate coverage probabalities\n",
    "t_boot_ols_cov_avg_prob = np.mean(t_boot_ols_CI.sum()/REP)\n",
    "\n",
    "print(\"Average coverage probability of OLS = {}\".format(t_boot_ols_cov_avg_prob))\n",
    "\n",
    "q6_CI_conv = pd.DataFrame({\"Coverage Probability\": (t_boot_ols_CI.sum()/REP)})\n",
    "indices = []\n",
    "for i in range(len(q6_CI_conv.index)):\n",
    "    indices.append(\"$t_{\" + str(i) + \"}$\")\n",
    "q6_CI_conv.index = indices\n",
    "fig5, axes5 = plt.subplots(1, 1, figsize=(8,10))\n",
    "(q6_CI_conv).plot.barh(ax=axes5, label=\"Coverage Probability\")\n",
    "axes5.title.set_text(\"Coverage Probability OLS\")\n",
    "axes5.axvline(x=0.8814, color='red', ls='--', label='Lower bound (0.8814)')\n",
    "axes5.axvline(x=0.9, color='green', ls=':', label='0.9')\n",
    "axes5.axvline(x=0.9186, color='red', ls='--', label='Upper bound (0.9186)')\n",
    "axes5.legend(bbox_to_anchor=(1.05,1))\n",
    "display(q6_CI_conv)"
   ]
  },
  {
   "cell_type": "markdown",
   "metadata": {},
   "source": [
    "It is clear that nearly all coverage probabilities near 1. "
   ]
  },
  {
   "cell_type": "markdown",
   "metadata": {
    "id": "t6sF2f_VrTza"
   },
   "source": [
    "7. What problems would you encounter if you wanted to implement the percentile-$t$ intervals for the LASSO? How could you remedy these problems (you don't have to implement this)?"
   ]
  },
  {
   "cell_type": "markdown",
   "metadata": {
    "id": "SLs70TNErTzb"
   },
   "source": [
    "8.  Estimate by simulation the cov. prob. for LASSO of 90% two-sided bias-corrected and accelerated (BC$_a$) confidence intervals. For this, use the bootstrap to estimate the (median) bias and the Jackknife for the acceleration constant. In the BC$_a$ method, the quantiles are adjusted:\n",
    "$$\\alpha_1=\\Phi\\left ( \\hat{z}_0+\\frac{\\hat{z}_0+z_{\\alpha/2}}{1-\\hat{a}(\\hat{z}_0+z_{\\alpha/2})} \\right ), \\\\\n",
    "  \\alpha_2=\\Phi\\left ( \\hat{z}_0+\\frac{\\hat{z}_0+z_{1-\\alpha}}{1-\\hat{a}(\\hat{z}_0+z_{1-\\alpha/2})} \\right ) \\\\\n",
    "$$\n",
    "with $z_{0.95}=1.645$. Here\n",
    "$$\\hat{z}_0=\\Phi^{-1}\\left ( \\frac{\\sum_{i=1}^n \\mathbb{1} \\{\\hat{\\theta}^*(b)<\\hat{\\theta}\\}}{B} \\right)$$\n",
    "and\n",
    "$$ \\hat{a}=\\frac{\\sum_{i=1}^n (\\hat{\\theta}_{(\\cdot)}-\\hat{\\theta}_{(i)})^3}{6\\{\\sum_{i=1}^n(\\hat{\\theta}_{(\\cdot)}-\\hat{\\theta}_{(i)})^2\\}^{3/2}}$$\n",
    "with $\\hat{\\theta}_{(\\cdot)}=\\sum_{i=1}^n \\hat{\\theta}_{(i)}/n$; see for more details Section 14.3 of Efron, B., & Tibshirani, R. J. (1994). An introduction to the bootstrap: [link](http://www.ru.ac.bd/stat/wp-content/uploads/sites/25/2019/03/501_02_Efron_Introduction-to-the-Bootstrap.pdf))."
   ]
  },
  {
   "cell_type": "markdown",
   "metadata": {
    "id": "aBPCrQq3rTzb"
   },
   "source": [
    "9. Based on all the results of this assignment, which inference procedure would you advise a practitioner that wants to conduct inference in a model described by the DGP? Motivate your recommendation."
   ]
  },
  {
   "cell_type": "code",
   "execution_count": null,
   "metadata": {},
   "outputs": [],
   "source": []
  },
  {
   "cell_type": "code",
   "execution_count": null,
   "metadata": {},
   "outputs": [],
   "source": []
  }
 ],
 "metadata": {
  "colab": {
   "collapsed_sections": [],
   "name": "AE2 Assignment 1.ipynb",
   "provenance": []
  },
  "kernelspec": {
   "display_name": "Python 3",
   "language": "python",
   "name": "python3"
  },
  "language_info": {
   "codemirror_mode": {
    "name": "ipython",
    "version": 3
   },
   "file_extension": ".py",
   "mimetype": "text/x-python",
   "name": "python",
   "nbconvert_exporter": "python",
   "pygments_lexer": "ipython3",
   "version": "3.7.6"
  },
  "widgets": {
   "application/vnd.jupyter.widget-state+json": {
    "0449887a19cc49258d4a7eb717850dd3": {
     "model_module": "@jupyter-widgets/controls",
     "model_name": "HBoxModel",
     "state": {
      "_dom_classes": [],
      "_model_module": "@jupyter-widgets/controls",
      "_model_module_version": "1.5.0",
      "_model_name": "HBoxModel",
      "_view_count": null,
      "_view_module": "@jupyter-widgets/controls",
      "_view_module_version": "1.5.0",
      "_view_name": "HBoxView",
      "box_style": "",
      "children": [
       "IPY_MODEL_29540b41119c4481975e4d588ec83a8e",
       "IPY_MODEL_69e166bd206c4cc4890bbe407e9207e3"
      ],
      "layout": "IPY_MODEL_f04b1a27bdf245faa9c4f6d8704e27d4"
     }
    },
    "1abdb5c042eb40919e550238e5639f5e": {
     "model_module": "@jupyter-widgets/controls",
     "model_name": "ProgressStyleModel",
     "state": {
      "_model_module": "@jupyter-widgets/controls",
      "_model_module_version": "1.5.0",
      "_model_name": "ProgressStyleModel",
      "_view_count": null,
      "_view_module": "@jupyter-widgets/base",
      "_view_module_version": "1.2.0",
      "_view_name": "StyleView",
      "bar_color": null,
      "description_width": "initial"
     }
    },
    "29540b41119c4481975e4d588ec83a8e": {
     "model_module": "@jupyter-widgets/controls",
     "model_name": "FloatProgressModel",
     "state": {
      "_dom_classes": [],
      "_model_module": "@jupyter-widgets/controls",
      "_model_module_version": "1.5.0",
      "_model_name": "FloatProgressModel",
      "_view_count": null,
      "_view_module": "@jupyter-widgets/controls",
      "_view_module_version": "1.5.0",
      "_view_name": "ProgressView",
      "bar_style": "success",
      "description": "100%",
      "description_tooltip": null,
      "layout": "IPY_MODEL_54246b40266c4286b2f10235d19db0ab",
      "max": 1000,
      "min": 0,
      "orientation": "horizontal",
      "style": "IPY_MODEL_d725072d2e794b7181ada136c3f6b002",
      "value": 1000
     }
    },
    "338ee7e72aa249e1aaedfc1e7c75a96b": {
     "model_module": "@jupyter-widgets/base",
     "model_name": "LayoutModel",
     "state": {
      "_model_module": "@jupyter-widgets/base",
      "_model_module_version": "1.2.0",
      "_model_name": "LayoutModel",
      "_view_count": null,
      "_view_module": "@jupyter-widgets/base",
      "_view_module_version": "1.2.0",
      "_view_name": "LayoutView",
      "align_content": null,
      "align_items": null,
      "align_self": null,
      "border": null,
      "bottom": null,
      "display": null,
      "flex": null,
      "flex_flow": null,
      "grid_area": null,
      "grid_auto_columns": null,
      "grid_auto_flow": null,
      "grid_auto_rows": null,
      "grid_column": null,
      "grid_gap": null,
      "grid_row": null,
      "grid_template_areas": null,
      "grid_template_columns": null,
      "grid_template_rows": null,
      "height": null,
      "justify_content": null,
      "justify_items": null,
      "left": null,
      "margin": null,
      "max_height": null,
      "max_width": null,
      "min_height": null,
      "min_width": null,
      "object_fit": null,
      "object_position": null,
      "order": null,
      "overflow": null,
      "overflow_x": null,
      "overflow_y": null,
      "padding": null,
      "right": null,
      "top": null,
      "visibility": null,
      "width": null
     }
    },
    "54246b40266c4286b2f10235d19db0ab": {
     "model_module": "@jupyter-widgets/base",
     "model_name": "LayoutModel",
     "state": {
      "_model_module": "@jupyter-widgets/base",
      "_model_module_version": "1.2.0",
      "_model_name": "LayoutModel",
      "_view_count": null,
      "_view_module": "@jupyter-widgets/base",
      "_view_module_version": "1.2.0",
      "_view_name": "LayoutView",
      "align_content": null,
      "align_items": null,
      "align_self": null,
      "border": null,
      "bottom": null,
      "display": null,
      "flex": null,
      "flex_flow": null,
      "grid_area": null,
      "grid_auto_columns": null,
      "grid_auto_flow": null,
      "grid_auto_rows": null,
      "grid_column": null,
      "grid_gap": null,
      "grid_row": null,
      "grid_template_areas": null,
      "grid_template_columns": null,
      "grid_template_rows": null,
      "height": null,
      "justify_content": null,
      "justify_items": null,
      "left": null,
      "margin": null,
      "max_height": null,
      "max_width": null,
      "min_height": null,
      "min_width": null,
      "object_fit": null,
      "object_position": null,
      "order": null,
      "overflow": null,
      "overflow_x": null,
      "overflow_y": null,
      "padding": null,
      "right": null,
      "top": null,
      "visibility": null,
      "width": null
     }
    },
    "69e166bd206c4cc4890bbe407e9207e3": {
     "model_module": "@jupyter-widgets/controls",
     "model_name": "HTMLModel",
     "state": {
      "_dom_classes": [],
      "_model_module": "@jupyter-widgets/controls",
      "_model_module_version": "1.5.0",
      "_model_name": "HTMLModel",
      "_view_count": null,
      "_view_module": "@jupyter-widgets/controls",
      "_view_module_version": "1.5.0",
      "_view_name": "HTMLView",
      "description": "",
      "description_tooltip": null,
      "layout": "IPY_MODEL_a187c06fb3e24702bb011c271bb5d178",
      "placeholder": "​",
      "style": "IPY_MODEL_7684a71af4424789bf14d363b29fd86b",
      "value": " 1000/1000 [02:35&lt;00:00,  6.45it/s]"
     }
    },
    "7684a71af4424789bf14d363b29fd86b": {
     "model_module": "@jupyter-widgets/controls",
     "model_name": "DescriptionStyleModel",
     "state": {
      "_model_module": "@jupyter-widgets/controls",
      "_model_module_version": "1.5.0",
      "_model_name": "DescriptionStyleModel",
      "_view_count": null,
      "_view_module": "@jupyter-widgets/base",
      "_view_module_version": "1.2.0",
      "_view_name": "StyleView",
      "description_width": ""
     }
    },
    "7a6130d189144e0e90ce7ce18ea33061": {
     "model_module": "@jupyter-widgets/controls",
     "model_name": "ProgressStyleModel",
     "state": {
      "_model_module": "@jupyter-widgets/controls",
      "_model_module_version": "1.5.0",
      "_model_name": "ProgressStyleModel",
      "_view_count": null,
      "_view_module": "@jupyter-widgets/base",
      "_view_module_version": "1.2.0",
      "_view_name": "StyleView",
      "bar_color": null,
      "description_width": "initial"
     }
    },
    "955abcb53a5448659fe947777a417394": {
     "model_module": "@jupyter-widgets/base",
     "model_name": "LayoutModel",
     "state": {
      "_model_module": "@jupyter-widgets/base",
      "_model_module_version": "1.2.0",
      "_model_name": "LayoutModel",
      "_view_count": null,
      "_view_module": "@jupyter-widgets/base",
      "_view_module_version": "1.2.0",
      "_view_name": "LayoutView",
      "align_content": null,
      "align_items": null,
      "align_self": null,
      "border": null,
      "bottom": null,
      "display": null,
      "flex": null,
      "flex_flow": null,
      "grid_area": null,
      "grid_auto_columns": null,
      "grid_auto_flow": null,
      "grid_auto_rows": null,
      "grid_column": null,
      "grid_gap": null,
      "grid_row": null,
      "grid_template_areas": null,
      "grid_template_columns": null,
      "grid_template_rows": null,
      "height": null,
      "justify_content": null,
      "justify_items": null,
      "left": null,
      "margin": null,
      "max_height": null,
      "max_width": null,
      "min_height": null,
      "min_width": null,
      "object_fit": null,
      "object_position": null,
      "order": null,
      "overflow": null,
      "overflow_x": null,
      "overflow_y": null,
      "padding": null,
      "right": null,
      "top": null,
      "visibility": null,
      "width": null
     }
    },
    "9f6b98d470be4d29952a2a37dc1c7f1d": {
     "model_module": "@jupyter-widgets/controls",
     "model_name": "HTMLModel",
     "state": {
      "_dom_classes": [],
      "_model_module": "@jupyter-widgets/controls",
      "_model_module_version": "1.5.0",
      "_model_name": "HTMLModel",
      "_view_count": null,
      "_view_module": "@jupyter-widgets/controls",
      "_view_module_version": "1.5.0",
      "_view_name": "HTMLView",
      "description": "",
      "description_tooltip": null,
      "layout": "IPY_MODEL_955abcb53a5448659fe947777a417394",
      "placeholder": "​",
      "style": "IPY_MODEL_a99e81b5d50d4d3bae1ce098276ca5ad",
      "value": " 1000/1000 [00:00&lt;00:00, 2438.04it/s]"
     }
    },
    "a187c06fb3e24702bb011c271bb5d178": {
     "model_module": "@jupyter-widgets/base",
     "model_name": "LayoutModel",
     "state": {
      "_model_module": "@jupyter-widgets/base",
      "_model_module_version": "1.2.0",
      "_model_name": "LayoutModel",
      "_view_count": null,
      "_view_module": "@jupyter-widgets/base",
      "_view_module_version": "1.2.0",
      "_view_name": "LayoutView",
      "align_content": null,
      "align_items": null,
      "align_self": null,
      "border": null,
      "bottom": null,
      "display": null,
      "flex": null,
      "flex_flow": null,
      "grid_area": null,
      "grid_auto_columns": null,
      "grid_auto_flow": null,
      "grid_auto_rows": null,
      "grid_column": null,
      "grid_gap": null,
      "grid_row": null,
      "grid_template_areas": null,
      "grid_template_columns": null,
      "grid_template_rows": null,
      "height": null,
      "justify_content": null,
      "justify_items": null,
      "left": null,
      "margin": null,
      "max_height": null,
      "max_width": null,
      "min_height": null,
      "min_width": null,
      "object_fit": null,
      "object_position": null,
      "order": null,
      "overflow": null,
      "overflow_x": null,
      "overflow_y": null,
      "padding": null,
      "right": null,
      "top": null,
      "visibility": null,
      "width": null
     }
    },
    "a99e81b5d50d4d3bae1ce098276ca5ad": {
     "model_module": "@jupyter-widgets/controls",
     "model_name": "DescriptionStyleModel",
     "state": {
      "_model_module": "@jupyter-widgets/controls",
      "_model_module_version": "1.5.0",
      "_model_name": "DescriptionStyleModel",
      "_view_count": null,
      "_view_module": "@jupyter-widgets/base",
      "_view_module_version": "1.2.0",
      "_view_name": "StyleView",
      "description_width": ""
     }
    },
    "b2e5af4de98647a9bc44ab0bd0af70db": {
     "model_module": "@jupyter-widgets/controls",
     "model_name": "HTMLModel",
     "state": {
      "_dom_classes": [],
      "_model_module": "@jupyter-widgets/controls",
      "_model_module_version": "1.5.0",
      "_model_name": "HTMLModel",
      "_view_count": null,
      "_view_module": "@jupyter-widgets/controls",
      "_view_module_version": "1.5.0",
      "_view_name": "HTMLView",
      "description": "",
      "description_tooltip": null,
      "layout": "IPY_MODEL_338ee7e72aa249e1aaedfc1e7c75a96b",
      "placeholder": "​",
      "style": "IPY_MODEL_d56462385c604ae7be500c26fa865972",
      "value": " 1000/1000 [00:03&lt;00:00, 316.65it/s]"
     }
    },
    "b56e3f4b156640f79dd163b803605e3c": {
     "model_module": "@jupyter-widgets/controls",
     "model_name": "FloatProgressModel",
     "state": {
      "_dom_classes": [],
      "_model_module": "@jupyter-widgets/controls",
      "_model_module_version": "1.5.0",
      "_model_name": "FloatProgressModel",
      "_view_count": null,
      "_view_module": "@jupyter-widgets/controls",
      "_view_module_version": "1.5.0",
      "_view_name": "ProgressView",
      "bar_style": "success",
      "description": "100%",
      "description_tooltip": null,
      "layout": "IPY_MODEL_f2fc87ccd1c74f6296c21b10102ed41f",
      "max": 1000,
      "min": 0,
      "orientation": "horizontal",
      "style": "IPY_MODEL_7a6130d189144e0e90ce7ce18ea33061",
      "value": 1000
     }
    },
    "b81dcd9da9d147c4a3c80998dbad6d25": {
     "model_module": "@jupyter-widgets/controls",
     "model_name": "FloatProgressModel",
     "state": {
      "_dom_classes": [],
      "_model_module": "@jupyter-widgets/controls",
      "_model_module_version": "1.5.0",
      "_model_name": "FloatProgressModel",
      "_view_count": null,
      "_view_module": "@jupyter-widgets/controls",
      "_view_module_version": "1.5.0",
      "_view_name": "ProgressView",
      "bar_style": "success",
      "description": "100%",
      "description_tooltip": null,
      "layout": "IPY_MODEL_f5ec1b77fbeb44518eb502f9459a4a11",
      "max": 1000,
      "min": 0,
      "orientation": "horizontal",
      "style": "IPY_MODEL_1abdb5c042eb40919e550238e5639f5e",
      "value": 1000
     }
    },
    "ceb09d7d633745a998f0ab6e244b9f30": {
     "model_module": "@jupyter-widgets/controls",
     "model_name": "HBoxModel",
     "state": {
      "_dom_classes": [],
      "_model_module": "@jupyter-widgets/controls",
      "_model_module_version": "1.5.0",
      "_model_name": "HBoxModel",
      "_view_count": null,
      "_view_module": "@jupyter-widgets/controls",
      "_view_module_version": "1.5.0",
      "_view_name": "HBoxView",
      "box_style": "",
      "children": [
       "IPY_MODEL_b81dcd9da9d147c4a3c80998dbad6d25",
       "IPY_MODEL_9f6b98d470be4d29952a2a37dc1c7f1d"
      ],
      "layout": "IPY_MODEL_cefbe1c2acac4bb981a2818408a6ea14"
     }
    },
    "cefbe1c2acac4bb981a2818408a6ea14": {
     "model_module": "@jupyter-widgets/base",
     "model_name": "LayoutModel",
     "state": {
      "_model_module": "@jupyter-widgets/base",
      "_model_module_version": "1.2.0",
      "_model_name": "LayoutModel",
      "_view_count": null,
      "_view_module": "@jupyter-widgets/base",
      "_view_module_version": "1.2.0",
      "_view_name": "LayoutView",
      "align_content": null,
      "align_items": null,
      "align_self": null,
      "border": null,
      "bottom": null,
      "display": null,
      "flex": null,
      "flex_flow": null,
      "grid_area": null,
      "grid_auto_columns": null,
      "grid_auto_flow": null,
      "grid_auto_rows": null,
      "grid_column": null,
      "grid_gap": null,
      "grid_row": null,
      "grid_template_areas": null,
      "grid_template_columns": null,
      "grid_template_rows": null,
      "height": null,
      "justify_content": null,
      "justify_items": null,
      "left": null,
      "margin": null,
      "max_height": null,
      "max_width": null,
      "min_height": null,
      "min_width": null,
      "object_fit": null,
      "object_position": null,
      "order": null,
      "overflow": null,
      "overflow_x": null,
      "overflow_y": null,
      "padding": null,
      "right": null,
      "top": null,
      "visibility": null,
      "width": null
     }
    },
    "d4f29e4f304047f4a6297ef5eb2be59b": {
     "model_module": "@jupyter-widgets/base",
     "model_name": "LayoutModel",
     "state": {
      "_model_module": "@jupyter-widgets/base",
      "_model_module_version": "1.2.0",
      "_model_name": "LayoutModel",
      "_view_count": null,
      "_view_module": "@jupyter-widgets/base",
      "_view_module_version": "1.2.0",
      "_view_name": "LayoutView",
      "align_content": null,
      "align_items": null,
      "align_self": null,
      "border": null,
      "bottom": null,
      "display": null,
      "flex": null,
      "flex_flow": null,
      "grid_area": null,
      "grid_auto_columns": null,
      "grid_auto_flow": null,
      "grid_auto_rows": null,
      "grid_column": null,
      "grid_gap": null,
      "grid_row": null,
      "grid_template_areas": null,
      "grid_template_columns": null,
      "grid_template_rows": null,
      "height": null,
      "justify_content": null,
      "justify_items": null,
      "left": null,
      "margin": null,
      "max_height": null,
      "max_width": null,
      "min_height": null,
      "min_width": null,
      "object_fit": null,
      "object_position": null,
      "order": null,
      "overflow": null,
      "overflow_x": null,
      "overflow_y": null,
      "padding": null,
      "right": null,
      "top": null,
      "visibility": null,
      "width": null
     }
    },
    "d56462385c604ae7be500c26fa865972": {
     "model_module": "@jupyter-widgets/controls",
     "model_name": "DescriptionStyleModel",
     "state": {
      "_model_module": "@jupyter-widgets/controls",
      "_model_module_version": "1.5.0",
      "_model_name": "DescriptionStyleModel",
      "_view_count": null,
      "_view_module": "@jupyter-widgets/base",
      "_view_module_version": "1.2.0",
      "_view_name": "StyleView",
      "description_width": ""
     }
    },
    "d725072d2e794b7181ada136c3f6b002": {
     "model_module": "@jupyter-widgets/controls",
     "model_name": "ProgressStyleModel",
     "state": {
      "_model_module": "@jupyter-widgets/controls",
      "_model_module_version": "1.5.0",
      "_model_name": "ProgressStyleModel",
      "_view_count": null,
      "_view_module": "@jupyter-widgets/base",
      "_view_module_version": "1.2.0",
      "_view_name": "StyleView",
      "bar_color": null,
      "description_width": "initial"
     }
    },
    "ed62bd47f6ce4b20b30adb9d7d0daf49": {
     "model_module": "@jupyter-widgets/controls",
     "model_name": "HBoxModel",
     "state": {
      "_dom_classes": [],
      "_model_module": "@jupyter-widgets/controls",
      "_model_module_version": "1.5.0",
      "_model_name": "HBoxModel",
      "_view_count": null,
      "_view_module": "@jupyter-widgets/controls",
      "_view_module_version": "1.5.0",
      "_view_name": "HBoxView",
      "box_style": "",
      "children": [
       "IPY_MODEL_b56e3f4b156640f79dd163b803605e3c",
       "IPY_MODEL_b2e5af4de98647a9bc44ab0bd0af70db"
      ],
      "layout": "IPY_MODEL_d4f29e4f304047f4a6297ef5eb2be59b"
     }
    },
    "f04b1a27bdf245faa9c4f6d8704e27d4": {
     "model_module": "@jupyter-widgets/base",
     "model_name": "LayoutModel",
     "state": {
      "_model_module": "@jupyter-widgets/base",
      "_model_module_version": "1.2.0",
      "_model_name": "LayoutModel",
      "_view_count": null,
      "_view_module": "@jupyter-widgets/base",
      "_view_module_version": "1.2.0",
      "_view_name": "LayoutView",
      "align_content": null,
      "align_items": null,
      "align_self": null,
      "border": null,
      "bottom": null,
      "display": null,
      "flex": null,
      "flex_flow": null,
      "grid_area": null,
      "grid_auto_columns": null,
      "grid_auto_flow": null,
      "grid_auto_rows": null,
      "grid_column": null,
      "grid_gap": null,
      "grid_row": null,
      "grid_template_areas": null,
      "grid_template_columns": null,
      "grid_template_rows": null,
      "height": null,
      "justify_content": null,
      "justify_items": null,
      "left": null,
      "margin": null,
      "max_height": null,
      "max_width": null,
      "min_height": null,
      "min_width": null,
      "object_fit": null,
      "object_position": null,
      "order": null,
      "overflow": null,
      "overflow_x": null,
      "overflow_y": null,
      "padding": null,
      "right": null,
      "top": null,
      "visibility": null,
      "width": null
     }
    },
    "f2fc87ccd1c74f6296c21b10102ed41f": {
     "model_module": "@jupyter-widgets/base",
     "model_name": "LayoutModel",
     "state": {
      "_model_module": "@jupyter-widgets/base",
      "_model_module_version": "1.2.0",
      "_model_name": "LayoutModel",
      "_view_count": null,
      "_view_module": "@jupyter-widgets/base",
      "_view_module_version": "1.2.0",
      "_view_name": "LayoutView",
      "align_content": null,
      "align_items": null,
      "align_self": null,
      "border": null,
      "bottom": null,
      "display": null,
      "flex": null,
      "flex_flow": null,
      "grid_area": null,
      "grid_auto_columns": null,
      "grid_auto_flow": null,
      "grid_auto_rows": null,
      "grid_column": null,
      "grid_gap": null,
      "grid_row": null,
      "grid_template_areas": null,
      "grid_template_columns": null,
      "grid_template_rows": null,
      "height": null,
      "justify_content": null,
      "justify_items": null,
      "left": null,
      "margin": null,
      "max_height": null,
      "max_width": null,
      "min_height": null,
      "min_width": null,
      "object_fit": null,
      "object_position": null,
      "order": null,
      "overflow": null,
      "overflow_x": null,
      "overflow_y": null,
      "padding": null,
      "right": null,
      "top": null,
      "visibility": null,
      "width": null
     }
    },
    "f5ec1b77fbeb44518eb502f9459a4a11": {
     "model_module": "@jupyter-widgets/base",
     "model_name": "LayoutModel",
     "state": {
      "_model_module": "@jupyter-widgets/base",
      "_model_module_version": "1.2.0",
      "_model_name": "LayoutModel",
      "_view_count": null,
      "_view_module": "@jupyter-widgets/base",
      "_view_module_version": "1.2.0",
      "_view_name": "LayoutView",
      "align_content": null,
      "align_items": null,
      "align_self": null,
      "border": null,
      "bottom": null,
      "display": null,
      "flex": null,
      "flex_flow": null,
      "grid_area": null,
      "grid_auto_columns": null,
      "grid_auto_flow": null,
      "grid_auto_rows": null,
      "grid_column": null,
      "grid_gap": null,
      "grid_row": null,
      "grid_template_areas": null,
      "grid_template_columns": null,
      "grid_template_rows": null,
      "height": null,
      "justify_content": null,
      "justify_items": null,
      "left": null,
      "margin": null,
      "max_height": null,
      "max_width": null,
      "min_height": null,
      "min_width": null,
      "object_fit": null,
      "object_position": null,
      "order": null,
      "overflow": null,
      "overflow_x": null,
      "overflow_y": null,
      "padding": null,
      "right": null,
      "top": null,
      "visibility": null,
      "width": null
     }
    }
   }
  }
 },
 "nbformat": 4,
 "nbformat_minor": 1
}
