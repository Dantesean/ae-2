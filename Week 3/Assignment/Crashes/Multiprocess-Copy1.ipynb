{
 "cells": [
  {
   "cell_type": "code",
   "execution_count": 1,
   "metadata": {},
   "outputs": [],
   "source": [
    "import numpy as np\n",
    "import pandas as pd\n",
    "from tqdm.notebook import tqdm\n",
    "\n",
    "from multiprocessing import Pool\n",
    "import multiprocessing\n",
    "import multiprocess as mp\n",
    "# import worker\n",
    "\n",
    "import sqlite3\n",
    "\n",
    "import json, requests, os, urllib\n",
    "\n",
    "# Read sqlite query results into a pandas DataFrame\n",
    "con = sqlite3.connect(\"data/switrs.sqlite\")\n",
    "q = \"\"\"\n",
    "SELECT collision_date, longitude, latitude FROM collisions\n",
    "WHERE collision_date IS NOT NULL\n",
    "AND longitude IS NOT NULL\n",
    "AND latitude IS NOT NULL    \n",
    "AND collision_date <= '2017-12-31'  -- 2018 is incomplete\n",
    "AND collision_date >= '2010-01-01'\n",
    "\"\"\"\n",
    "df = pd.read_sql_query(q, con)\n",
    "df.latitude = round(df.latitude)\n",
    "df.longitude = round(df.longitude)\n",
    "df.drop_duplicates(inplace=True)\n",
    "# df.collision_date = df.collision_date.str.replace('-','')\n",
    "# tuples = [tuple(x) for x in df.to_numpy()]\n",
    "\n",
    "# tupless = pd.read_csv('data/tuples.csv')\n",
    "# tuples = [tuple(x) for x in tupless.to_numpy()]"
   ]
  },
  {
   "cell_type": "code",
   "execution_count": 4,
   "metadata": {},
   "outputs": [
    {
     "data": {
      "text/plain": [
       "(32.0, 42.0)"
      ]
     },
     "execution_count": 4,
     "metadata": {},
     "output_type": "execute_result"
    }
   ],
   "source": [
    "df.latitude.min(), df.latitude.max()"
   ]
  },
  {
   "cell_type": "code",
   "execution_count": 5,
   "metadata": {},
   "outputs": [],
   "source": [
    "# So therefore we turn to the regional data as offered by NASA and specified in their API documentation\n",
    "# This essentially creates a CSV file for every 4.5 x 4.5 block of long/lat combinations, thus in our case creating\n",
    "# 3 x 3 = 9 seperate files. These files are merged in another Notebook.\n",
    "\n",
    "# First, create the 4.5 x 4.5 blocks we want to use\n",
    "longi = [(df.longitude.min(), df.longitude.min() + 4.5), (df.longitude.min() + 4.5, df.longitude.min() + 4.5*2), (df.longitude.min() + 4.5*2, df.longitude.min() + 4.5*3)]\n",
    "lati = [(df.latitude.min(), df.latitude.min() + 4.5), (df.latitude.min() + 4.5, df.latitude.min() + 4.5*2), (df.latitude.min() + 4.5*2, df.latitude.min() + 4.5*3)]\n",
    "\n",
    "# Then, request the data and write to CSV\n",
    "output_folder = os.getcwd() + '/data/large'\n",
    "output = \"CSV\" # JSON, CSV, ASCII, ICASA, NETCDF\n",
    "base_url = r\"https://power.larc.nasa.gov/cgi-bin/v1/DataAccess.py?&request=execute&tempAverage=DAILY&identifier=Regional&parameters=T2M&userCommunity=AG&startDate=20100101&endDate=20171231&bbox={lat0},{long0},{lat1},{long1}&outputList=CSV&user=DOCUMENTATION\"\n",
    "for long in longi:\n",
    "    for lat in lati:\n",
    "        api_request_url = base_url.format(long0=long[0], long1=long[1], lat0=lat[0], lat1=lat[1], output=output.upper())\n",
    "\n",
    "        # Python Memory Object\n",
    "        json_response = json.loads(requests.get(api_request_url).content.decode('utf-8'))\n",
    "\n",
    "        # Selects the file URL from the JSON response\n",
    "        csv_request_url = json_response['outputs'][output.lower()]\n",
    "\n",
    "        # Download File to Folder\n",
    "        output_file_location = os.path.join(output_folder, os.path.basename(csv_request_url))\n",
    "        urllib.request.urlretrieve(csv_request_url, output_file_location)"
   ]
  },
  {
   "cell_type": "code",
   "execution_count": null,
   "metadata": {},
   "outputs": [],
   "source": []
  }
 ],
 "metadata": {
  "kernelspec": {
   "display_name": "Python 3",
   "language": "python",
   "name": "python3"
  },
  "language_info": {
   "codemirror_mode": {
    "name": "ipython",
    "version": 3
   },
   "file_extension": ".py",
   "mimetype": "text/x-python",
   "name": "python",
   "nbconvert_exporter": "python",
   "pygments_lexer": "ipython3",
   "version": "3.7.6"
  }
 },
 "nbformat": 4,
 "nbformat_minor": 4
}
