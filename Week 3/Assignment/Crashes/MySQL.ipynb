{
 "cells": [
  {
   "cell_type": "code",
   "execution_count": 11,
   "id": "controlled-trial",
   "metadata": {},
   "outputs": [],
   "source": [
    "import pandas as pd\n",
    "import numpy as np\n",
    "import glob\n",
    "import sqlite3\n",
    "import pymysql\n",
    "\n",
    "\n",
    "path = 'data/large' # use your path\n",
    "all_files = glob.glob(path + \"/POWER*.csv\")\n",
    "\n",
    "for filename in all_files:\n",
    "    df_ap = pd.read_csv(filename, index_col=None, header=10)\n",
    "    li.append(df_ap)\n",
    "\n",
    "frame = pd.concat(li, axis=0, ignore_index=True)\n",
    "frame['DATE'] = frame['YEAR'].map(str) + '-' + pd.to_datetime(frame['DOY'], format='%j').dt.strftime('%m-%d')\n",
    "frame.drop(['YEAR', 'DOY'], axis=1, inplace=True)\n",
    "frame.columns = ['lat', 'lon', 'temp', 'date']"
   ]
  },
  {
   "cell_type": "code",
   "execution_count": 18,
   "id": "young-alliance",
   "metadata": {},
   "outputs": [],
   "source": [
    "# Connect to the database\n",
    "connection = pymysql.connect(host='localhost',\n",
    "                         user='root',\n",
    "                         password='Dementors1!',\n",
    "                         db='ae2_3')\n",
    "\n",
    "\n",
    "# create cursor\n",
    "cursor=connection.cursor()\n",
    "\n",
    "li = []\n",
    "# creating column list for insertion\n",
    "cols = \"`,`\".join([str(i) for i in frame.columns.tolist()])\n",
    "\n",
    "# Insert DataFrame recrds one by one.\n",
    "for i,row in frame.iterrows():\n",
    "    sql = \"INSERT INTO `temps` (`\" +cols + \"`) VALUES (\" + \"%s,\"*(len(row)-1) + \"%s)\"\n",
    "    cursor.execute(sql, tuple(row))\n",
    "\n",
    "    # the connection is not autocommitted by default, so we must commit to save our changes\n",
    "    connection.commit()"
   ]
  },
  {
   "cell_type": "code",
   "execution_count": 3,
   "id": "gross-mills",
   "metadata": {},
   "outputs": [],
   "source": [
    "import sqlite3\n",
    "\n",
    "\n",
    "# Read sqlite query results into a pandas DataFrame\n",
    "con = sqlite3.connect(\"data/switrs.sqlite\")\n",
    "q = \"\"\"\n",
    "SELECT latitude, longitude, collision_date, weather_1 FROM collisions\n",
    "WHERE collision_date IS NOT NULL\n",
    "AND longitude IS NOT NULL\n",
    "AND latitude IS NOT NULL    \n",
    "AND collision_date <= '2017-12-31'  -- 2018 is incomplete\n",
    "AND collision_date >= '2010-01-01'\n",
    "\"\"\"\n",
    "\n",
    "df = pd.read_sql_query(q, con)\n",
    "df.columns = ['latitude', 'longitude', 'collision_date', 'weather']\n",
    "df.drop(['latitude', 'longitude', 'collision_date'], axis=1, inplace=True)\n",
    "\n",
    "# # Connect to the database\n",
    "# connection = pymysql.connect(host='localhost',\n",
    "#                          user='root',\n",
    "#                          password='Dementors1!',\n",
    "#                          db='ae2_3')\n",
    "\n",
    "\n",
    "# # create cursor\n",
    "# cursor=connection.cursor()\n",
    "\n",
    "# li = []\n",
    "# # creating column list for insertion\n",
    "# cols = \"`,`\".join([str(i) for i in df.columns.tolist()])\n",
    "\n",
    "# # Insert DataFrame recrds one by one.\n",
    "# for i,row in df.iterrows():\n",
    "#     sql = \"INSERT INTO `collisions` (`\" +cols + \"`) VALUES (\" + \"%s,\"*(len(row)-1) + \"%s)\"\n",
    "#     cursor.execute(sql, tuple(row))\n",
    "\n",
    "#     # the connection is not autocommitted by default, so we must commit to save our changes\n",
    "#     connection.commit()"
   ]
  },
  {
   "cell_type": "code",
   "execution_count": 7,
   "id": "abstract-mathematics",
   "metadata": {},
   "outputs": [],
   "source": [
    "import pandas as pd\n",
    "df_temp = pd.read_csv('/Users/dantesean/Documents/Projects/ae-2/Week 3/Assignment/MySQL/ae2_3_total.csv')"
   ]
  },
  {
   "cell_type": "code",
   "execution_count": 7,
   "id": "suspected-argument",
   "metadata": {},
   "outputs": [],
   "source": [
    "import pymysql"
   ]
  },
  {
   "cell_type": "code",
   "execution_count": 9,
   "id": "manual-electronics",
   "metadata": {},
   "outputs": [],
   "source": [
    "df_temp['weather'] = df['weather']\n",
    "df_temp.dropna(inplace=True)"
   ]
  },
  {
   "cell_type": "code",
   "execution_count": 11,
   "id": "potential-spray",
   "metadata": {},
   "outputs": [
    {
     "data": {
      "text/plain": [
       "3849"
      ]
     },
     "execution_count": 11,
     "metadata": {},
     "output_type": "execute_result"
    }
   ],
   "source": [
    "1553379 - 1549530"
   ]
  },
  {
   "cell_type": "code",
   "execution_count": 5,
   "id": "diverse-surface",
   "metadata": {},
   "outputs": [
    {
     "name": "stderr",
     "output_type": "stream",
     "text": [
      "<ipython-input-5-3e0a7be35c12>:4: FutureWarning: The pandas.datetime class is deprecated and will be removed from pandas in a future version. Import from datetime module instead.\n",
      "  collisions_grouped_1.to_csv('data/large/collisions_grouped_1_{}.csv'.format(pd.datetime.today().strftime('%y%m%d-%H%M%S')), header=False)\n",
      "<ipython-input-5-3e0a7be35c12>:13: FutureWarning: The pandas.datetime class is deprecated and will be removed from pandas in a future version. Import from datetime module instead.\n",
      "  collisions_grouped_2_final.to_csv('data/large/collisions_grouped_2_rain_{}.csv'.format(pd.datetime.today().strftime('%y%m%d-%H%M%S')), header=False)\n",
      "<ipython-input-5-3e0a7be35c12>:22: FutureWarning: The pandas.datetime class is deprecated and will be removed from pandas in a future version. Import from datetime module instead.\n",
      "  collisions_grouped_3_final.to_csv('data/large/collisions_grouped_3_no_rain_{}.csv'.format(pd.datetime.today().strftime('%y%m%d-%H%M%S')), header=False,)\n"
     ]
    }
   ],
   "source": [
    "collisions_grouped_1 = pd.DataFrame(pd.Series(df_temp.groupby('collision_date').mean()['temp']))\n",
    "collisions_grouped_1['count'] = pd.Series(df_temp['collision_date'].value_counts().sort_index())\n",
    "collisions_grouped_1.columns = ['temp', 'count']\n",
    "collisions_grouped_1.to_csv('data/large/collisions_grouped_1_{}.csv'.format(pd.datetime.today().strftime('%y%m%d-%H%M%S')), header=False)\n",
    "\n",
    "# Conditional on Rain\n",
    "df_rain = df_temp[df_temp['weather'] == 'raining']\n",
    "collisions_grouped_2 = pd.DataFrame(pd.Series(df_rain.groupby('collision_date').mean()['temp']))\n",
    "collisions_grouped_2['count'] = pd.Series(df_rain['collision_date'].value_counts().sort_index())\n",
    "collisions_grouped_2.columns = ['temp', 'count']\n",
    "collisions_grouped_2_final = collisions_grouped_2.reindex(pd.DataFrame(pd.Series(df_temp.groupby('collision_date').mean()['temp'])).index, fill_value=0)\n",
    "collisions_grouped_2_final.loc[collisions_grouped_2_final['temp'] == 0, 'temp'] = collisions_grouped_1['temp']\n",
    "collisions_grouped_2_final.to_csv('data/large/collisions_grouped_2_rain_{}.csv'.format(pd.datetime.today().strftime('%y%m%d-%H%M%S')), header=False)\n",
    "\n",
    "# Conditional on No Rain\n",
    "df_no_rain = df_temp[df_temp['weather'] != 'raining']\n",
    "collisions_grouped_3 = pd.DataFrame(pd.Series(df_no_rain.groupby('collision_date').mean()['temp']))\n",
    "collisions_grouped_3['count'] = pd.Series(df_no_rain['collision_date'].value_counts().sort_index())\n",
    "collisions_grouped_3.columns = ['temp', 'count']\n",
    "collisions_grouped_3_final = collisions_grouped_3.reindex(pd.DataFrame(pd.Series(df_temp.groupby('collision_date').mean()['temp'])).index, fill_value=0)\n",
    "collisions_grouped_3_final.loc[collisions_grouped_3_final['temp'] == 0, 'temp'] = collisions_grouped_1['temp']\n",
    "collisions_grouped_3_final.to_csv('data/large/collisions_grouped_3_no_rain_{}.csv'.format(pd.datetime.today().strftime('%y%m%d-%H%M%S')), header=False,)"
   ]
  }
 ],
 "metadata": {
  "kernelspec": {
   "display_name": "Python 3",
   "language": "python",
   "name": "python3"
  },
  "language_info": {
   "codemirror_mode": {
    "name": "ipython",
    "version": 3
   },
   "file_extension": ".py",
   "mimetype": "text/x-python",
   "name": "python",
   "nbconvert_exporter": "python",
   "pygments_lexer": "ipython3",
   "version": "3.9.1"
  }
 },
 "nbformat": 4,
 "nbformat_minor": 5
}
