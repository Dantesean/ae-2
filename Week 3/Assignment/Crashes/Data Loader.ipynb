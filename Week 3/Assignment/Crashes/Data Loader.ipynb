{
 "cells": [
  {
   "cell_type": "code",
   "execution_count": 114,
   "metadata": {},
   "outputs": [],
   "source": [
    "import pandas as pd\n",
    "import numpy as np\n",
    "import glob\n",
    "import tqdm\n",
    "import sqlite3\n",
    "\n",
    "# Read sqlite query results into a pandas DataFrame\n",
    "con = sqlite3.connect(\"data/switrs.sqlite\")\n",
    "q = \"\"\"\n",
    "SELECT collision_date, longitude, latitude FROM collisions\n",
    "WHERE collision_date IS NOT NULL\n",
    "AND longitude IS NOT NULL\n",
    "AND latitude IS NOT NULL    \n",
    "AND collision_date <= '2017-12-31'  -- 2018 is incomplete\n",
    "AND collision_date >= '2017-01-01'\n",
    "\"\"\"\n",
    "df = pd.read_sql_query(q, con)\n",
    "\n",
    "# Round the coordinates, given that NASA only looks at grids of 0.5 x 0.5\n",
    "df.latitude = round(df.latitude*2)/2\n",
    "df.longitude = round(df.longitude*2)/2\n",
    "df.orig = df.copy()\n",
    "\n",
    "# Initially dropped duplicates because that speeds up our investigation\n",
    "df.drop_duplicates(inplace=True)\n",
    "df.columns = ['collision_date', 'LON', 'LAT']\n",
    "\n",
    "# Load in the data retrieved from NASA (which are seperate CSV files made up of 4.5 x 4.5 degree Region data)\n",
    "# See seperate Notebook for loading NASA data\n",
    "path = 'data' # use your path\n",
    "all_files = glob.glob(path + \"/POWER*.csv\")\n",
    "\n",
    "li = []\n",
    "\n",
    "for filename in all_files:\n",
    "    df_ap = pd.read_csv(filename, index_col=None, header=10)\n",
    "    li.append(df_ap)\n",
    "\n",
    "frame = pd.concat(li, axis=0, ignore_index=True)\n",
    "frame['DATE'] = pd.to_datetime(frame['DOY'], format='%j').dt.strftime('2017-%m-%d')\n",
    "frame.drop(['YEAR', 'DOY'], axis=1, inplace=True)"
   ]
  },
  {
   "cell_type": "code",
   "execution_count": 108,
   "metadata": {},
   "outputs": [],
   "source": [
    "# Create functions for finding the closest point to a point and matching another field to it\n",
    "from scipy.spatial.distance import cdist\n",
    "def closest_point(point, points):\n",
    "    \"\"\" Find closest point from a list of points. \"\"\"\n",
    "    return points[cdist([point], points).argmin()]\n",
    "\n",
    "def match_value(df, col1, x, col2, y, col3):\n",
    "    \"\"\" Match value x from col1 row to value in col2. \"\"\"\n",
    "    return df[(df[col1] == x) & (df[col3] == y)][col2].values[0]\n",
    "\n",
    "\n",
    "df1 = frame\n",
    "df2 = df.copy()\n",
    "\n",
    "import time\n",
    "\n",
    "t0 = time.time()\n",
    "\n",
    "df1['point'] = [(x, y) for x,y in zip(df1['LAT'], df1['LON'])]\n",
    "df2['point'] = [(x, y) for x,y in zip(df2['LAT'], df2['LON'])]\n",
    "\n",
    "df2['closest'] = [closest_point(x, list(df1['point'])) for x in tqdm.tqdm(df2['point'])]\n",
    "df2['T2M'] = [match_value(df1, 'point', x, 'T2M', y, 'DATE') for x,y in tqdm.tqdm(zip(df2['closest'], df2['collision_date']))]\n",
    "\n",
    "t1 = time.time()\n",
    "\n",
    "total = t1-t0\n",
    "print('Finished in ')\n",
    "print(total)"
   ]
  },
  {
   "cell_type": "code",
   "execution_count": 110,
   "metadata": {},
   "outputs": [],
   "source": [
    "# Write this file to a CSV for intermediate checkpoint saving\n",
    "df2.to_csv('data/supermegafinal.csv')"
   ]
  },
  {
   "cell_type": "code",
   "execution_count": null,
   "metadata": {},
   "outputs": [],
   "source": [
    "# Now, initialize the original data frame\n",
    "df_orig.columns = ['collision_date', 'LON', 'LAT']"
   ]
  },
  {
   "cell_type": "code",
   "execution_count": 124,
   "metadata": {},
   "outputs": [],
   "source": [
    "# Create the points (this time a three element tuple) for the original date sets\n",
    "df_orig['point'] = [(x,y,z) for x,y,z in zip(df_orig['LAT'], df_orig['LON'], df_orig['collision_date'])]\n",
    "df2['point_date'] = [(x,y,z) for x,y,z in zip(df2['LAT'], df2['LON'], df2['collision_date'])]"
   ]
  },
  {
   "cell_type": "code",
   "execution_count": 128,
   "metadata": {},
   "outputs": [
    {
     "name": "stderr",
     "output_type": "stream",
     "text": [
      "100%|██████████| 292296/292296 [15:25<00:00, 315.79it/s]\n"
     ]
    }
   ],
   "source": [
    "# Match the original dataset to the already matched data of the unique values, done earlier\n",
    "def match_value_2(df, col1, x, col2):\n",
    "    \"\"\" Match value x from col1 row to value in col2. \"\"\"\n",
    "    return df[(df[col1] == x)][col2].values[0]\n",
    "\n",
    "df_orig['T2M'] = [match_value_2(df2, 'point_date', x, 'T2M') for x in tqdm.tqdm(df_orig['point'])]"
   ]
  },
  {
   "cell_type": "code",
   "execution_count": 129,
   "metadata": {},
   "outputs": [],
   "source": [
    "# Write the final file to CSV\n",
    "df_orig.to_csv('data/collisionweather.csv')"
   ]
  },
  {
   "cell_type": "code",
   "execution_count": 136,
   "metadata": {},
   "outputs": [],
   "source": [
    "df_orig['T2M'].value_counts().to_csv('data/collisionweather_valuecounts.csv', header=False)"
   ]
  },
  {
   "cell_type": "code",
   "execution_count": 142,
   "metadata": {},
   "outputs": [
    {
     "data": {
      "text/plain": [
       "0         33.74\n",
       "1         14.52\n",
       "2         14.89\n",
       "3         16.42\n",
       "4         21.98\n",
       "          ...  \n",
       "292291    11.86\n",
       "292292    15.08\n",
       "292293    15.08\n",
       "292294    15.08\n",
       "292295    12.76\n",
       "Name: T2M, Length: 292296, dtype: float64"
      ]
     },
     "execution_count": 142,
     "metadata": {},
     "output_type": "execute_result"
    }
   ],
   "source": [
    "df_orig['T2M']"
   ]
  },
  {
   "cell_type": "code",
   "execution_count": 6,
   "metadata": {},
   "outputs": [],
   "source": [
    "import pandas as pd\n",
    "df_orig = pd.read_csv('data/collisionweather.csv')"
   ]
  },
  {
   "cell_type": "code",
   "execution_count": 7,
   "metadata": {},
   "outputs": [
    {
     "data": {
      "text/html": [
       "<div>\n",
       "<style scoped>\n",
       "    .dataframe tbody tr th:only-of-type {\n",
       "        vertical-align: middle;\n",
       "    }\n",
       "\n",
       "    .dataframe tbody tr th {\n",
       "        vertical-align: top;\n",
       "    }\n",
       "\n",
       "    .dataframe thead th {\n",
       "        text-align: right;\n",
       "    }\n",
       "</style>\n",
       "<table border=\"1\" class=\"dataframe\">\n",
       "  <thead>\n",
       "    <tr style=\"text-align: right;\">\n",
       "      <th></th>\n",
       "      <th>Unnamed: 0</th>\n",
       "      <th>collision_date</th>\n",
       "      <th>LON</th>\n",
       "      <th>LAT</th>\n",
       "      <th>point</th>\n",
       "      <th>T2M</th>\n",
       "    </tr>\n",
       "  </thead>\n",
       "  <tbody>\n",
       "    <tr>\n",
       "      <th>0</th>\n",
       "      <td>0</td>\n",
       "      <td>2017-08-31</td>\n",
       "      <td>-119.5</td>\n",
       "      <td>36.5</td>\n",
       "      <td>(36.5, -119.5, '2017-08-31')</td>\n",
       "      <td>33.74</td>\n",
       "    </tr>\n",
       "    <tr>\n",
       "      <th>1</th>\n",
       "      <td>1</td>\n",
       "      <td>2017-02-20</td>\n",
       "      <td>-118.0</td>\n",
       "      <td>33.5</td>\n",
       "      <td>(33.5, -118.0, '2017-02-20')</td>\n",
       "      <td>14.52</td>\n",
       "    </tr>\n",
       "    <tr>\n",
       "      <th>2</th>\n",
       "      <td>2</td>\n",
       "      <td>2017-04-23</td>\n",
       "      <td>-119.0</td>\n",
       "      <td>35.5</td>\n",
       "      <td>(35.5, -119.0, '2017-04-23')</td>\n",
       "      <td>14.89</td>\n",
       "    </tr>\n",
       "    <tr>\n",
       "      <th>3</th>\n",
       "      <td>3</td>\n",
       "      <td>2017-05-23</td>\n",
       "      <td>-118.0</td>\n",
       "      <td>33.5</td>\n",
       "      <td>(33.5, -118.0, '2017-05-23')</td>\n",
       "      <td>16.42</td>\n",
       "    </tr>\n",
       "    <tr>\n",
       "      <th>4</th>\n",
       "      <td>4</td>\n",
       "      <td>2017-07-12</td>\n",
       "      <td>-122.5</td>\n",
       "      <td>39.0</td>\n",
       "      <td>(39.0, -122.5, '2017-07-12')</td>\n",
       "      <td>21.98</td>\n",
       "    </tr>\n",
       "    <tr>\n",
       "      <th>...</th>\n",
       "      <td>...</td>\n",
       "      <td>...</td>\n",
       "      <td>...</td>\n",
       "      <td>...</td>\n",
       "      <td>...</td>\n",
       "      <td>...</td>\n",
       "    </tr>\n",
       "    <tr>\n",
       "      <th>292291</th>\n",
       "      <td>292291</td>\n",
       "      <td>2017-04-08</td>\n",
       "      <td>-117.0</td>\n",
       "      <td>34.0</td>\n",
       "      <td>(34.0, -117.0, '2017-04-08')</td>\n",
       "      <td>11.86</td>\n",
       "    </tr>\n",
       "    <tr>\n",
       "      <th>292292</th>\n",
       "      <td>292292</td>\n",
       "      <td>2017-12-25</td>\n",
       "      <td>-118.0</td>\n",
       "      <td>34.0</td>\n",
       "      <td>(34.0, -118.0, '2017-12-25')</td>\n",
       "      <td>15.08</td>\n",
       "    </tr>\n",
       "    <tr>\n",
       "      <th>292293</th>\n",
       "      <td>292293</td>\n",
       "      <td>2017-12-25</td>\n",
       "      <td>-118.0</td>\n",
       "      <td>34.0</td>\n",
       "      <td>(34.0, -118.0, '2017-12-25')</td>\n",
       "      <td>15.08</td>\n",
       "    </tr>\n",
       "    <tr>\n",
       "      <th>292294</th>\n",
       "      <td>292294</td>\n",
       "      <td>2017-12-25</td>\n",
       "      <td>-118.0</td>\n",
       "      <td>34.0</td>\n",
       "      <td>(34.0, -118.0, '2017-12-25')</td>\n",
       "      <td>15.08</td>\n",
       "    </tr>\n",
       "    <tr>\n",
       "      <th>292295</th>\n",
       "      <td>292295</td>\n",
       "      <td>2017-01-28</td>\n",
       "      <td>-118.0</td>\n",
       "      <td>34.0</td>\n",
       "      <td>(34.0, -118.0, '2017-01-28')</td>\n",
       "      <td>12.76</td>\n",
       "    </tr>\n",
       "  </tbody>\n",
       "</table>\n",
       "<p>292296 rows × 6 columns</p>\n",
       "</div>"
      ],
      "text/plain": [
       "        Unnamed: 0 collision_date    LON   LAT                         point  \\\n",
       "0                0     2017-08-31 -119.5  36.5  (36.5, -119.5, '2017-08-31')   \n",
       "1                1     2017-02-20 -118.0  33.5  (33.5, -118.0, '2017-02-20')   \n",
       "2                2     2017-04-23 -119.0  35.5  (35.5, -119.0, '2017-04-23')   \n",
       "3                3     2017-05-23 -118.0  33.5  (33.5, -118.0, '2017-05-23')   \n",
       "4                4     2017-07-12 -122.5  39.0  (39.0, -122.5, '2017-07-12')   \n",
       "...            ...            ...    ...   ...                           ...   \n",
       "292291      292291     2017-04-08 -117.0  34.0  (34.0, -117.0, '2017-04-08')   \n",
       "292292      292292     2017-12-25 -118.0  34.0  (34.0, -118.0, '2017-12-25')   \n",
       "292293      292293     2017-12-25 -118.0  34.0  (34.0, -118.0, '2017-12-25')   \n",
       "292294      292294     2017-12-25 -118.0  34.0  (34.0, -118.0, '2017-12-25')   \n",
       "292295      292295     2017-01-28 -118.0  34.0  (34.0, -118.0, '2017-01-28')   \n",
       "\n",
       "          T2M  \n",
       "0       33.74  \n",
       "1       14.52  \n",
       "2       14.89  \n",
       "3       16.42  \n",
       "4       21.98  \n",
       "...       ...  \n",
       "292291  11.86  \n",
       "292292  15.08  \n",
       "292293  15.08  \n",
       "292294  15.08  \n",
       "292295  12.76  \n",
       "\n",
       "[292296 rows x 6 columns]"
      ]
     },
     "execution_count": 7,
     "metadata": {},
     "output_type": "execute_result"
    }
   ],
   "source": [
    "df_orig"
   ]
  },
  {
   "cell_type": "code",
   "execution_count": 30,
   "metadata": {},
   "outputs": [],
   "source": [
    "collisions_grouped = pd.DataFrame(pd.Series(df_orig.groupby('collision_date').mean()['T2M']))\n",
    "collisions_grouped['count'] = pd.Series(df_orig['collision_date'].value_counts().sort_index())\n",
    "collisions_grouped.columns = ['temp', 'count']\n",
    "collisions_grouped.to_csv('data/collisions_grouped.csv', header=False, index=False)"
   ]
  }
 ],
 "metadata": {
  "kernelspec": {
   "display_name": "Python 3",
   "language": "python",
   "name": "python3"
  },
  "language_info": {
   "codemirror_mode": {
    "name": "ipython",
    "version": 3
   },
   "file_extension": ".py",
   "mimetype": "text/x-python",
   "name": "python",
   "nbconvert_exporter": "python",
   "pygments_lexer": "ipython3",
   "version": "3.7.6"
  }
 },
 "nbformat": 4,
 "nbformat_minor": 4
}
